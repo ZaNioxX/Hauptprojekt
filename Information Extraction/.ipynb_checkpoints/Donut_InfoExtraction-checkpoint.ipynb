{
 "cells": [
  {
   "cell_type": "markdown",
   "id": "8f951418",
   "metadata": {},
   "source": [
    "## load the dataset that was generated for Donut"
   ]
  },
  {
   "cell_type": "code",
   "execution_count": 2,
   "id": "b02285b1",
   "metadata": {},
   "outputs": [],
   "source": [
    "from datasets import load_dataset"
   ]
  },
  {
   "cell_type": "code",
   "execution_count": 3,
   "id": "2b666f4b",
   "metadata": {},
   "outputs": [
    {
     "data": {
      "application/vnd.jupyter.widget-view+json": {
       "model_id": "8560d422b5aa48aea32d052a156502fc",
       "version_major": 2,
       "version_minor": 0
      },
      "text/plain": [
       "Resolving data files:   0%|          | 0/10390 [00:00<?, ?it/s]"
      ]
     },
     "metadata": {},
     "output_type": "display_data"
    },
    {
     "data": {
      "application/vnd.jupyter.widget-view+json": {
       "model_id": "2755ba8bf07b4d2f9e92efbaa3768816",
       "version_major": 2,
       "version_minor": 0
      },
      "text/plain": [
       "Resolving data files:   0%|          | 0/251 [00:00<?, ?it/s]"
      ]
     },
     "metadata": {},
     "output_type": "display_data"
    },
    {
     "data": {
      "application/vnd.jupyter.widget-view+json": {
       "model_id": "7b6c928e122542f2ba3d672e10811809",
       "version_major": 2,
       "version_minor": 0
      },
      "text/plain": [
       "Resolving data files:   0%|          | 0/3755 [00:00<?, ?it/s]"
      ]
     },
     "metadata": {},
     "output_type": "display_data"
    },
    {
     "data": {
      "application/vnd.jupyter.widget-view+json": {
       "model_id": "aa03a2d2a9cc4cc58b6e668fe6a0ef92",
       "version_major": 2,
       "version_minor": 0
      },
      "text/plain": [
       "Downloading data files:   0%|          | 0/10392 [00:00<?, ?it/s]"
      ]
     },
     "metadata": {},
     "output_type": "display_data"
    },
    {
     "data": {
      "application/vnd.jupyter.widget-view+json": {
       "model_id": "43b974df5f4943919646efcbe231914f",
       "version_major": 2,
       "version_minor": 0
      },
      "text/plain": [
       "Downloading data files: 0it [00:00, ?it/s]"
      ]
     },
     "metadata": {},
     "output_type": "display_data"
    },
    {
     "data": {
      "application/vnd.jupyter.widget-view+json": {
       "model_id": "fa9977879f4c45b29c9bf840a094c244",
       "version_major": 2,
       "version_minor": 0
      },
      "text/plain": [
       "Extracting data files: 0it [00:00, ?it/s]"
      ]
     },
     "metadata": {},
     "output_type": "display_data"
    },
    {
     "data": {
      "application/vnd.jupyter.widget-view+json": {
       "model_id": "30c3c847691246ea8830db4dbcbe5094",
       "version_major": 2,
       "version_minor": 0
      },
      "text/plain": [
       "Downloading data files:   0%|          | 0/253 [00:00<?, ?it/s]"
      ]
     },
     "metadata": {},
     "output_type": "display_data"
    },
    {
     "data": {
      "application/vnd.jupyter.widget-view+json": {
       "model_id": "42275cdb6e6b4750ae7efd91c4aff522",
       "version_major": 2,
       "version_minor": 0
      },
      "text/plain": [
       "Downloading data files: 0it [00:00, ?it/s]"
      ]
     },
     "metadata": {},
     "output_type": "display_data"
    },
    {
     "data": {
      "application/vnd.jupyter.widget-view+json": {
       "model_id": "818a3ffd432a4c4f81048e9944d9aa9f",
       "version_major": 2,
       "version_minor": 0
      },
      "text/plain": [
       "Extracting data files: 0it [00:00, ?it/s]"
      ]
     },
     "metadata": {},
     "output_type": "display_data"
    },
    {
     "data": {
      "application/vnd.jupyter.widget-view+json": {
       "model_id": "9370b7abd418478baa8c321083fdac0a",
       "version_major": 2,
       "version_minor": 0
      },
      "text/plain": [
       "Downloading data files:   0%|          | 0/3757 [00:00<?, ?it/s]"
      ]
     },
     "metadata": {},
     "output_type": "display_data"
    },
    {
     "data": {
      "application/vnd.jupyter.widget-view+json": {
       "model_id": "c1bfc27f301947f4bc26f8120aea9ae6",
       "version_major": 2,
       "version_minor": 0
      },
      "text/plain": [
       "Downloading data files: 0it [00:00, ?it/s]"
      ]
     },
     "metadata": {},
     "output_type": "display_data"
    },
    {
     "data": {
      "application/vnd.jupyter.widget-view+json": {
       "model_id": "33e694a06ebc4dfeb90e02322d8a0c40",
       "version_major": 2,
       "version_minor": 0
      },
      "text/plain": [
       "Extracting data files: 0it [00:00, ?it/s]"
      ]
     },
     "metadata": {},
     "output_type": "display_data"
    },
    {
     "data": {
      "application/vnd.jupyter.widget-view+json": {
       "model_id": "60878de42cac4efaa99870fe6fe7e28f",
       "version_major": 2,
       "version_minor": 0
      },
      "text/plain": [
       "Generating train split: 0 examples [00:00, ? examples/s]"
      ]
     },
     "metadata": {},
     "output_type": "display_data"
    },
    {
     "data": {
      "application/vnd.jupyter.widget-view+json": {
       "model_id": "bcea64df367d4f10b05878b9fef03bc5",
       "version_major": 2,
       "version_minor": 0
      },
      "text/plain": [
       "Generating validation split: 0 examples [00:00, ? examples/s]"
      ]
     },
     "metadata": {},
     "output_type": "display_data"
    },
    {
     "data": {
      "application/vnd.jupyter.widget-view+json": {
       "model_id": "39ef4d2b18d74ac1b3df26a4f3bc7e7d",
       "version_major": 2,
       "version_minor": 0
      },
      "text/plain": [
       "Generating test split: 0 examples [00:00, ? examples/s]"
      ]
     },
     "metadata": {},
     "output_type": "display_data"
    }
   ],
   "source": [
    "dataset = load_dataset(\"/home/sebastian/Documents/Hauptprojekt/Daten_Donut_all_classes\")"
   ]
  },
  {
   "cell_type": "code",
   "execution_count": 4,
   "id": "3daeb8c2",
   "metadata": {},
   "outputs": [
    {
     "data": {
      "text/plain": [
       "DatasetDict({\n",
       "    train: Dataset({\n",
       "        features: ['image', 'ground_truth'],\n",
       "        num_rows: 10389\n",
       "    })\n",
       "    validation: Dataset({\n",
       "        features: ['image', 'ground_truth'],\n",
       "        num_rows: 250\n",
       "    })\n",
       "    test: Dataset({\n",
       "        features: ['image', 'ground_truth'],\n",
       "        num_rows: 3754\n",
       "    })\n",
       "})"
      ]
     },
     "execution_count": 4,
     "metadata": {},
     "output_type": "execute_result"
    }
   ],
   "source": [
    "dataset"
   ]
  },
  {
   "cell_type": "code",
   "execution_count": 5,
   "id": "e903f9c5",
   "metadata": {},
   "outputs": [
    {
     "data": {
      "image/png": "[encoded data removed]",
      "text/plain": [
       "<PIL.Image.Image image mode=RGB size=495x701>"
      ]
     },
     "metadata": {},
     "output_type": "display_data"
    }
   ],
   "source": [
    "example = dataset['train'][0]\n",
    "image = example['image']\n",
    "# let's make the image a bit smaller when visualizing\n",
    "width, height = image.size\n",
    "display(image.resize((int(width*0.3), int(height*0.3))))"
   ]
  },
  {
   "cell_type": "markdown",
   "id": "18c82dfe",
   "metadata": {},
   "source": [
    "check the ground truth for the image. Just a test to see if it dispalys as expected"
   ]
  },
  {
   "cell_type": "code",
   "execution_count": 6,
   "id": "693d10a0",
   "metadata": {},
   "outputs": [
    {
     "name": "stdout",
     "output_type": "stream",
     "text": [
      "{\"gt_parse\": {\"field_extractions\": [{\"fieldtype\": \"document_id\", \"text\": \"2525440785577\"}, {\"fieldtype\": \"date_issue\", \"text\": \"2020-08-18\"}, {\"fieldtype\": \"vendor_name\", \"text\": \"Mid-West Family\"}, {\"fieldtype\": \"vendor_address\", \"text\": \"Mid-West Family\\nP. O. BOX 107\\nST. JOSEPH, Michigan 49085\"}, {\"fieldtype\": \"customer_billing_name\", \"text\": \"MAIN STREET MEDIA GROUP\"}, {\"fieldtype\": \"customer_billing_address\", \"text\": \"MAIN STREET MEDIA GROUP\\nPO Box 25093\\nAlexandria, Virginia 22314\"}, {\"fieldtype\": \"currency_code_amount_due\", \"text\": \"$\"}, {\"fieldtype\": \"amount_total_gross\", \"text\": \"$3,220.00\"}, {\"fieldtype\": \"amount_total_gross\", \"text\": \"$3,220.00\"}, {\"fieldtype\": \"amount_total_gross\", \"text\": \"$3,220.00\"}, {\"fieldtype\": \"amount_due\", \"text\": \"$2,737.00\"}, {\"fieldtype\": \"amount_due\", \"text\": \"$2,737.00\"}, {\"fieldtype\": \"amount_due\", \"text\": \"$2,737.00\"}], \"line_item_extractions\": [{\"fieldtype\": \"line_item_position\", \"line_item_id\": 1, \"text\": \"1\"}, {\"fieldtype\": \"line_item_date\", \"line_item_id\": 1, \"text\": \"08/19/20\"}, {\"fieldtype\": \"line_item_date\", \"line_item_id\": 1, \"text\": \"08/19/20\"}, {\"fieldtype\": \"line_item_code\", \"line_item_id\": 1, \"text\": \"WIRX-FM\"}, {\"fieldtype\": \"line_item_unit_price_gross\", \"line_item_id\": 1, \"text\": \"112.00\"}, {\"fieldtype\": \"line_item_quantity\", \"line_item_id\": 1, \"text\": \"2\"}, {\"fieldtype\": \"line_item_amount_gross\", \"line_item_id\": 1, \"text\": \"224.00\"}, {\"fieldtype\": \"line_item_position\", \"line_item_id\": 2, \"text\": \"2\"}, {\"fieldtype\": \"line_item_date\", \"line_item_id\": 2, \"text\": \"08/19/20\"}, {\"fieldtype\": \"line_item_date\", \"line_item_id\": 2, \"text\": \"08/19/20\"}, {\"fieldtype\": \"line_item_code\", \"line_item_id\": 2, \"text\": \"WIRX-FM\"}, {\"fieldtype\": \"line_item_unit_price_gross\", \"line_item_id\": 2, \"text\": \"105.00\"}, {\"fieldtype\": \"line_item_quantity\", \"line_item_id\": 2, \"text\": \"2\"}, {\"fieldtype\": \"line_item_amount_gross\", \"line_item_id\": 2, \"text\": \"210.00\"}, {\"fieldtype\": \"line_item_position\", \"line_item_id\": 3, \"text\": \"3\"}, {\"fieldtype\": \"line_item_date\", \"line_item_id\": 3, \"text\": \"08/19/20\"}, {\"fieldtype\": \"line_item_date\", \"line_item_id\": 3, \"text\": \"08/19/20\"}, {\"fieldtype\": \"line_item_code\", \"line_item_id\": 3, \"text\": \"WIRX-FM\"}, {\"fieldtype\": \"line_item_unit_price_gross\", \"line_item_id\": 3, \"text\": \"105.00\"}, {\"fieldtype\": \"line_item_quantity\", \"line_item_id\": 3, \"text\": \"2\"}, {\"fieldtype\": \"line_item_amount_gross\", \"line_item_id\": 3, \"text\": \"210.00\"}, {\"fieldtype\": \"line_item_position\", \"line_item_id\": 4, \"text\": \"4\"}, {\"fieldtype\": \"line_item_date\", \"line_item_id\": 4, \"text\": \"08/20/20\"}, {\"fieldtype\": \"line_item_date\", \"line_item_id\": 4, \"text\": \"08/20/20\"}, {\"fieldtype\": \"line_item_code\", \"line_item_id\": 4, \"text\": \"WIRX-FM\"}, {\"fieldtype\": \"line_item_unit_price_gross\", \"line_item_id\": 4, \"text\": \"112.00\"}, {\"fieldtype\": \"line_item_quantity\", \"line_item_id\": 4, \"text\": \"2\"}, {\"fieldtype\": \"line_item_amount_gross\", \"line_item_id\": 4, \"text\": \"224.00\"}, {\"fieldtype\": \"line_item_position\", \"line_item_id\": 5, \"text\": \"5\"}, {\"fieldtype\": \"line_item_date\", \"line_item_id\": 5, \"text\": \"08/20/20\"}, {\"fieldtype\": \"line_item_date\", \"line_item_id\": 5, \"text\": \"08/20/20\"}, {\"fieldtype\": \"line_item_code\", \"line_item_id\": 5, \"text\": \"WIRX-FM\"}, {\"fieldtype\": \"line_item_unit_price_gross\", \"line_item_id\": 5, \"text\": \"105.00\"}, {\"fieldtype\": \"line_item_quantity\", \"line_item_id\": 5, \"text\": \"2\"}, {\"fieldtype\": \"line_item_amount_gross\", \"line_item_id\": 5, \"text\": \"210.00\"}, {\"fieldtype\": \"line_item_position\", \"line_item_id\": 6, \"text\": \"6\"}, {\"fieldtype\": \"line_item_date\", \"line_item_id\": 6, \"text\": \"08/20/20\"}, {\"fieldtype\": \"line_item_date\", \"line_item_id\": 6, \"text\": \"08/20/20\"}, {\"fieldtype\": \"line_item_code\", \"line_item_id\": 6, \"text\": \"WIRX-FM\"}, {\"fieldtype\": \"line_item_unit_price_gross\", \"line_item_id\": 6, \"text\": \"105.00\"}, {\"fieldtype\": \"line_item_quantity\", \"line_item_id\": 6, \"text\": \"2\"}, {\"fieldtype\": \"line_item_amount_gross\", \"line_item_id\": 6, \"text\": \"210.00\"}, {\"fieldtype\": \"line_item_position\", \"line_item_id\": 7, \"text\": \"7\"}, {\"fieldtype\": \"line_item_date\", \"line_item_id\": 7, \"text\": \"08/21/20\"}, {\"fieldtype\": \"line_item_date\", \"line_item_id\": 7, \"text\": \"08/21/20\"}, {\"fieldtype\": \"line_item_code\", \"line_item_id\": 7, \"text\": \"WIRX-FM\"}, {\"fieldtype\": \"line_item_unit_price_gross\", \"line_item_id\": 7, \"text\": \"112.00\"}, {\"fieldtype\": \"line_item_quantity\", \"line_item_id\": 7, \"text\": \"2\"}, {\"fieldtype\": \"line_item_amount_gross\", \"line_item_id\": 7, \"text\": \"224.00\"}, {\"fieldtype\": \"line_item_position\", \"line_item_id\": 8, \"text\": \"8\"}, {\"fieldtype\": \"line_item_date\", \"line_item_id\": 8, \"text\": \"08/21/20\"}, {\"fieldtype\": \"line_item_date\", \"line_item_id\": 8, \"text\": \"08/21/20\"}, {\"fieldtype\": \"line_item_code\", \"line_item_id\": 8, \"text\": \"WIRX-FM\"}, {\"fieldtype\": \"line_item_unit_price_gross\", \"line_item_id\": 8, \"text\": \"105.00\"}, {\"fieldtype\": \"line_item_quantity\", \"line_item_id\": 8, \"text\": \"2\"}, {\"fieldtype\": \"line_item_amount_gross\", \"line_item_id\": 8, \"text\": \"210.00\"}, {\"fieldtype\": \"line_item_position\", \"line_item_id\": 9, \"text\": \"9\"}, {\"fieldtype\": \"line_item_date\", \"line_item_id\": 9, \"text\": \"08/21/20\"}, {\"fieldtype\": \"line_item_date\", \"line_item_id\": 9, \"text\": \"08/21/20\"}, {\"fieldtype\": \"line_item_code\", \"line_item_id\": 9, \"text\": \"WIRX-FM\"}, {\"fieldtype\": \"line_item_unit_price_gross\", \"line_item_id\": 9, \"text\": \"105.00\"}, {\"fieldtype\": \"line_item_quantity\", \"line_item_id\": 9, \"text\": \"2\"}, {\"fieldtype\": \"line_item_amount_gross\", \"line_item_id\": 9, \"text\": \"210.00\"}, {\"fieldtype\": \"line_item_position\", \"line_item_id\": 10, \"text\": \"10\"}, {\"fieldtype\": \"line_item_date\", \"line_item_id\": 10, \"text\": \"08/24/20\"}, {\"fieldtype\": \"line_item_date\", \"line_item_id\": 10, \"text\": \"08/24/20\"}, {\"fieldtype\": \"line_item_code\", \"line_item_id\": 10, \"text\": \"WIRX-FM\"}, {\"fieldtype\": \"line_item_unit_price_gross\", \"line_item_id\": 10, \"text\": \"112.00\"}, {\"fieldtype\": \"line_item_quantity\", \"line_item_id\": 10, \"text\": \"2\"}, {\"fieldtype\": \"line_item_amount_gross\", \"line_item_id\": 10, \"text\": \"224.00\"}, {\"fieldtype\": \"line_item_position\", \"line_item_id\": 11, \"text\": \"11\"}, {\"fieldtype\": \"line_item_date\", \"line_item_id\": 11, \"text\": \"08/24/20\"}, {\"fieldtype\": \"line_item_date\", \"line_item_id\": 11, \"text\": \"08/24/20\"}, {\"fieldtype\": \"line_item_code\", \"line_item_id\": 11, \"text\": \"WIRX-FM\"}, {\"fieldtype\": \"line_item_unit_price_gross\", \"line_item_id\": 11, \"text\": \"105.00\"}, {\"fieldtype\": \"line_item_quantity\", \"line_item_id\": 11, \"text\": \"2\"}, {\"fieldtype\": \"line_item_amount_gross\", \"line_item_id\": 11, \"text\": \"210.00\"}, {\"fieldtype\": \"line_item_position\", \"line_item_id\": 12, \"text\": \"12\"}, {\"fieldtype\": \"line_item_date\", \"line_item_id\": 12, \"text\": \"08/24/20\"}, {\"fieldtype\": \"line_item_date\", \"line_item_id\": 12, \"text\": \"08/24/20\"}, {\"fieldtype\": \"line_item_code\", \"line_item_id\": 12, \"text\": \"WIRX-FM\"}, {\"fieldtype\": \"line_item_unit_price_gross\", \"line_item_id\": 12, \"text\": \"105.00\"}, {\"fieldtype\": \"line_item_quantity\", \"line_item_id\": 12, \"text\": \"2\"}, {\"fieldtype\": \"line_item_amount_gross\", \"line_item_id\": 12, \"text\": \"210.00\"}, {\"fieldtype\": \"line_item_position\", \"line_item_id\": 13, \"text\": \"13\"}, {\"fieldtype\": \"line_item_date\", \"line_item_id\": 13, \"text\": \"08/25/20\"}, {\"fieldtype\": \"line_item_date\", \"line_item_id\": 13, \"text\": \"08/25/20\"}, {\"fieldtype\": \"line_item_code\", \"line_item_id\": 13, \"text\": \"WIRX-FM\"}, {\"fieldtype\": \"line_item_unit_price_gross\", \"line_item_id\": 13, \"text\": \"112.00\"}, {\"fieldtype\": \"line_item_quantity\", \"line_item_id\": 13, \"text\": \"2\"}, {\"fieldtype\": \"line_item_amount_gross\", \"line_item_id\": 13, \"text\": \"224.00\"}, {\"fieldtype\": \"line_item_position\", \"line_item_id\": 14, \"text\": \"14\"}, {\"fieldtype\": \"line_item_date\", \"line_item_id\": 14, \"text\": \"08/25/20\"}, {\"fieldtype\": \"line_item_date\", \"line_item_id\": 14, \"text\": \"08/25/20\"}, {\"fieldtype\": \"line_item_code\", \"line_item_id\": 14, \"text\": \"WIRX-FM\"}, {\"fieldtype\": \"line_item_unit_price_gross\", \"line_item_id\": 14, \"text\": \"105.00\"}, {\"fieldtype\": \"line_item_quantity\", \"line_item_id\": 14, \"text\": \"2\"}, {\"fieldtype\": \"line_item_amount_gross\", \"line_item_id\": 14, \"text\": \"210.00\"}, {\"fieldtype\": \"line_item_position\", \"line_item_id\": 15, \"text\": \"15\"}, {\"fieldtype\": \"line_item_date\", \"line_item_id\": 15, \"text\": \"08/25/20\"}, {\"fieldtype\": \"line_item_date\", \"line_item_id\": 15, \"text\": \"08/25/20\"}, {\"fieldtype\": \"line_item_code\", \"line_item_id\": 15, \"text\": \"WIRX-FM\"}, {\"fieldtype\": \"line_item_unit_price_gross\", \"line_item_id\": 15, \"text\": \"105.00\"}, {\"fieldtype\": \"line_item_quantity\", \"line_item_id\": 15, \"text\": \"2\"}, {\"fieldtype\": \"line_item_amount_gross\", \"line_item_id\": 15, \"text\": \"210.00\"}], \"line_item_headers\": [{\"fieldtype\": \"line_item_position\", \"line_item_id\": 0, \"text\": \"#\"}, {\"fieldtype\": \"line_item_date\", \"line_item_id\": 0, \"text\": \"Start\\nDate\"}, {\"fieldtype\": \"line_item_date\", \"line_item_id\": 0, \"text\": \"End Date\"}, {\"fieldtype\": \"line_item_code\", \"line_item_id\": 0, \"text\": \"Station\"}, {\"fieldtype\": \"line_item_unit_price_gross\", \"line_item_id\": 0, \"text\": \"Rate\"}, {\"fieldtype\": \"line_item_quantity\", \"line_item_id\": 0, \"text\": \"Qty\"}, {\"fieldtype\": \"line_item_amount_gross\", \"line_item_id\": 0, \"text\": \"Total\"}]}}\n"
     ]
    }
   ],
   "source": [
    "# let's load the corresponding JSON dictionary (as string representation)\n",
    "ground_truth = example['ground_truth']\n",
    "print(ground_truth)"
   ]
  },
  {
   "cell_type": "code",
   "execution_count": 7,
   "id": "04887198",
   "metadata": {},
   "outputs": [
    {
     "data": {
      "text/plain": [
       "{'field_extractions': [{'fieldtype': 'document_id', 'text': '2525440785577'},\n",
       "  {'fieldtype': 'date_issue', 'text': '2020-08-18'},\n",
       "  {'fieldtype': 'vendor_name', 'text': 'Mid-West Family'},\n",
       "  {'fieldtype': 'vendor_address',\n",
       "   'text': 'Mid-West Family\\nP. O. BOX 107\\nST. JOSEPH, Michigan 49085'},\n",
       "  {'fieldtype': 'customer_billing_name', 'text': 'MAIN STREET MEDIA GROUP'},\n",
       "  {'fieldtype': 'customer_billing_address',\n",
       "   'text': 'MAIN STREET MEDIA GROUP\\nPO Box 25093\\nAlexandria, Virginia 22314'},\n",
       "  {'fieldtype': 'currency_code_amount_due', 'text': '$'},\n",
       "  {'fieldtype': 'amount_total_gross', 'text': '$3,220.00'},\n",
       "  {'fieldtype': 'amount_total_gross', 'text': '$3,220.00'},\n",
       "  {'fieldtype': 'amount_total_gross', 'text': '$3,220.00'},\n",
       "  {'fieldtype': 'amount_due', 'text': '$2,737.00'},\n",
       "  {'fieldtype': 'amount_due', 'text': '$2,737.00'},\n",
       "  {'fieldtype': 'amount_due', 'text': '$2,737.00'}],\n",
       " 'line_item_extractions': [{'fieldtype': 'line_item_position',\n",
       "   'line_item_id': 1,\n",
       "   'text': '1'},\n",
       "  {'fieldtype': 'line_item_date', 'line_item_id': 1, 'text': '08/19/20'},\n",
       "  {'fieldtype': 'line_item_date', 'line_item_id': 1, 'text': '08/19/20'},\n",
       "  {'fieldtype': 'line_item_code', 'line_item_id': 1, 'text': 'WIRX-FM'},\n",
       "  {'fieldtype': 'line_item_unit_price_gross',\n",
       "   'line_item_id': 1,\n",
       "   'text': '112.00'},\n",
       "  {'fieldtype': 'line_item_quantity', 'line_item_id': 1, 'text': '2'},\n",
       "  {'fieldtype': 'line_item_amount_gross', 'line_item_id': 1, 'text': '224.00'},\n",
       "  {'fieldtype': 'line_item_position', 'line_item_id': 2, 'text': '2'},\n",
       "  {'fieldtype': 'line_item_date', 'line_item_id': 2, 'text': '08/19/20'},\n",
       "  {'fieldtype': 'line_item_date', 'line_item_id': 2, 'text': '08/19/20'},\n",
       "  {'fieldtype': 'line_item_code', 'line_item_id': 2, 'text': 'WIRX-FM'},\n",
       "  {'fieldtype': 'line_item_unit_price_gross',\n",
       "   'line_item_id': 2,\n",
       "   'text': '105.00'},\n",
       "  {'fieldtype': 'line_item_quantity', 'line_item_id': 2, 'text': '2'},\n",
       "  {'fieldtype': 'line_item_amount_gross', 'line_item_id': 2, 'text': '210.00'},\n",
       "  {'fieldtype': 'line_item_position', 'line_item_id': 3, 'text': '3'},\n",
       "  {'fieldtype': 'line_item_date', 'line_item_id': 3, 'text': '08/19/20'},\n",
       "  {'fieldtype': 'line_item_date', 'line_item_id': 3, 'text': '08/19/20'},\n",
       "  {'fieldtype': 'line_item_code', 'line_item_id': 3, 'text': 'WIRX-FM'},\n",
       "  {'fieldtype': 'line_item_unit_price_gross',\n",
       "   'line_item_id': 3,\n",
       "   'text': '105.00'},\n",
       "  {'fieldtype': 'line_item_quantity', 'line_item_id': 3, 'text': '2'},\n",
       "  {'fieldtype': 'line_item_amount_gross', 'line_item_id': 3, 'text': '210.00'},\n",
       "  {'fieldtype': 'line_item_position', 'line_item_id': 4, 'text': '4'},\n",
       "  {'fieldtype': 'line_item_date', 'line_item_id': 4, 'text': '08/20/20'},\n",
       "  {'fieldtype': 'line_item_date', 'line_item_id': 4, 'text': '08/20/20'},\n",
       "  {'fieldtype': 'line_item_code', 'line_item_id': 4, 'text': 'WIRX-FM'},\n",
       "  {'fieldtype': 'line_item_unit_price_gross',\n",
       "   'line_item_id': 4,\n",
       "   'text': '112.00'},\n",
       "  {'fieldtype': 'line_item_quantity', 'line_item_id': 4, 'text': '2'},\n",
       "  {'fieldtype': 'line_item_amount_gross', 'line_item_id': 4, 'text': '224.00'},\n",
       "  {'fieldtype': 'line_item_position', 'line_item_id': 5, 'text': '5'},\n",
       "  {'fieldtype': 'line_item_date', 'line_item_id': 5, 'text': '08/20/20'},\n",
       "  {'fieldtype': 'line_item_date', 'line_item_id': 5, 'text': '08/20/20'},\n",
       "  {'fieldtype': 'line_item_code', 'line_item_id': 5, 'text': 'WIRX-FM'},\n",
       "  {'fieldtype': 'line_item_unit_price_gross',\n",
       "   'line_item_id': 5,\n",
       "   'text': '105.00'},\n",
       "  {'fieldtype': 'line_item_quantity', 'line_item_id': 5, 'text': '2'},\n",
       "  {'fieldtype': 'line_item_amount_gross', 'line_item_id': 5, 'text': '210.00'},\n",
       "  {'fieldtype': 'line_item_position', 'line_item_id': 6, 'text': '6'},\n",
       "  {'fieldtype': 'line_item_date', 'line_item_id': 6, 'text': '08/20/20'},\n",
       "  {'fieldtype': 'line_item_date', 'line_item_id': 6, 'text': '08/20/20'},\n",
       "  {'fieldtype': 'line_item_code', 'line_item_id': 6, 'text': 'WIRX-FM'},\n",
       "  {'fieldtype': 'line_item_unit_price_gross',\n",
       "   'line_item_id': 6,\n",
       "   'text': '105.00'},\n",
       "  {'fieldtype': 'line_item_quantity', 'line_item_id': 6, 'text': '2'},\n",
       "  {'fieldtype': 'line_item_amount_gross', 'line_item_id': 6, 'text': '210.00'},\n",
       "  {'fieldtype': 'line_item_position', 'line_item_id': 7, 'text': '7'},\n",
       "  {'fieldtype': 'line_item_date', 'line_item_id': 7, 'text': '08/21/20'},\n",
       "  {'fieldtype': 'line_item_date', 'line_item_id': 7, 'text': '08/21/20'},\n",
       "  {'fieldtype': 'line_item_code', 'line_item_id': 7, 'text': 'WIRX-FM'},\n",
       "  {'fieldtype': 'line_item_unit_price_gross',\n",
       "   'line_item_id': 7,\n",
       "   'text': '112.00'},\n",
       "  {'fieldtype': 'line_item_quantity', 'line_item_id': 7, 'text': '2'},\n",
       "  {'fieldtype': 'line_item_amount_gross', 'line_item_id': 7, 'text': '224.00'},\n",
       "  {'fieldtype': 'line_item_position', 'line_item_id': 8, 'text': '8'},\n",
       "  {'fieldtype': 'line_item_date', 'line_item_id': 8, 'text': '08/21/20'},\n",
       "  {'fieldtype': 'line_item_date', 'line_item_id': 8, 'text': '08/21/20'},\n",
       "  {'fieldtype': 'line_item_code', 'line_item_id': 8, 'text': 'WIRX-FM'},\n",
       "  {'fieldtype': 'line_item_unit_price_gross',\n",
       "   'line_item_id': 8,\n",
       "   'text': '105.00'},\n",
       "  {'fieldtype': 'line_item_quantity', 'line_item_id': 8, 'text': '2'},\n",
       "  {'fieldtype': 'line_item_amount_gross', 'line_item_id': 8, 'text': '210.00'},\n",
       "  {'fieldtype': 'line_item_position', 'line_item_id': 9, 'text': '9'},\n",
       "  {'fieldtype': 'line_item_date', 'line_item_id': 9, 'text': '08/21/20'},\n",
       "  {'fieldtype': 'line_item_date', 'line_item_id': 9, 'text': '08/21/20'},\n",
       "  {'fieldtype': 'line_item_code', 'line_item_id': 9, 'text': 'WIRX-FM'},\n",
       "  {'fieldtype': 'line_item_unit_price_gross',\n",
       "   'line_item_id': 9,\n",
       "   'text': '105.00'},\n",
       "  {'fieldtype': 'line_item_quantity', 'line_item_id': 9, 'text': '2'},\n",
       "  {'fieldtype': 'line_item_amount_gross', 'line_item_id': 9, 'text': '210.00'},\n",
       "  {'fieldtype': 'line_item_position', 'line_item_id': 10, 'text': '10'},\n",
       "  {'fieldtype': 'line_item_date', 'line_item_id': 10, 'text': '08/24/20'},\n",
       "  {'fieldtype': 'line_item_date', 'line_item_id': 10, 'text': '08/24/20'},\n",
       "  {'fieldtype': 'line_item_code', 'line_item_id': 10, 'text': 'WIRX-FM'},\n",
       "  {'fieldtype': 'line_item_unit_price_gross',\n",
       "   'line_item_id': 10,\n",
       "   'text': '112.00'},\n",
       "  {'fieldtype': 'line_item_quantity', 'line_item_id': 10, 'text': '2'},\n",
       "  {'fieldtype': 'line_item_amount_gross',\n",
       "   'line_item_id': 10,\n",
       "   'text': '224.00'},\n",
       "  {'fieldtype': 'line_item_position', 'line_item_id': 11, 'text': '11'},\n",
       "  {'fieldtype': 'line_item_date', 'line_item_id': 11, 'text': '08/24/20'},\n",
       "  {'fieldtype': 'line_item_date', 'line_item_id': 11, 'text': '08/24/20'},\n",
       "  {'fieldtype': 'line_item_code', 'line_item_id': 11, 'text': 'WIRX-FM'},\n",
       "  {'fieldtype': 'line_item_unit_price_gross',\n",
       "   'line_item_id': 11,\n",
       "   'text': '105.00'},\n",
       "  {'fieldtype': 'line_item_quantity', 'line_item_id': 11, 'text': '2'},\n",
       "  {'fieldtype': 'line_item_amount_gross',\n",
       "   'line_item_id': 11,\n",
       "   'text': '210.00'},\n",
       "  {'fieldtype': 'line_item_position', 'line_item_id': 12, 'text': '12'},\n",
       "  {'fieldtype': 'line_item_date', 'line_item_id': 12, 'text': '08/24/20'},\n",
       "  {'fieldtype': 'line_item_date', 'line_item_id': 12, 'text': '08/24/20'},\n",
       "  {'fieldtype': 'line_item_code', 'line_item_id': 12, 'text': 'WIRX-FM'},\n",
       "  {'fieldtype': 'line_item_unit_price_gross',\n",
       "   'line_item_id': 12,\n",
       "   'text': '105.00'},\n",
       "  {'fieldtype': 'line_item_quantity', 'line_item_id': 12, 'text': '2'},\n",
       "  {'fieldtype': 'line_item_amount_gross',\n",
       "   'line_item_id': 12,\n",
       "   'text': '210.00'},\n",
       "  {'fieldtype': 'line_item_position', 'line_item_id': 13, 'text': '13'},\n",
       "  {'fieldtype': 'line_item_date', 'line_item_id': 13, 'text': '08/25/20'},\n",
       "  {'fieldtype': 'line_item_date', 'line_item_id': 13, 'text': '08/25/20'},\n",
       "  {'fieldtype': 'line_item_code', 'line_item_id': 13, 'text': 'WIRX-FM'},\n",
       "  {'fieldtype': 'line_item_unit_price_gross',\n",
       "   'line_item_id': 13,\n",
       "   'text': '112.00'},\n",
       "  {'fieldtype': 'line_item_quantity', 'line_item_id': 13, 'text': '2'},\n",
       "  {'fieldtype': 'line_item_amount_gross',\n",
       "   'line_item_id': 13,\n",
       "   'text': '224.00'},\n",
       "  {'fieldtype': 'line_item_position', 'line_item_id': 14, 'text': '14'},\n",
       "  {'fieldtype': 'line_item_date', 'line_item_id': 14, 'text': '08/25/20'},\n",
       "  {'fieldtype': 'line_item_date', 'line_item_id': 14, 'text': '08/25/20'},\n",
       "  {'fieldtype': 'line_item_code', 'line_item_id': 14, 'text': 'WIRX-FM'},\n",
       "  {'fieldtype': 'line_item_unit_price_gross',\n",
       "   'line_item_id': 14,\n",
       "   'text': '105.00'},\n",
       "  {'fieldtype': 'line_item_quantity', 'line_item_id': 14, 'text': '2'},\n",
       "  {'fieldtype': 'line_item_amount_gross',\n",
       "   'line_item_id': 14,\n",
       "   'text': '210.00'},\n",
       "  {'fieldtype': 'line_item_position', 'line_item_id': 15, 'text': '15'},\n",
       "  {'fieldtype': 'line_item_date', 'line_item_id': 15, 'text': '08/25/20'},\n",
       "  {'fieldtype': 'line_item_date', 'line_item_id': 15, 'text': '08/25/20'},\n",
       "  {'fieldtype': 'line_item_code', 'line_item_id': 15, 'text': 'WIRX-FM'},\n",
       "  {'fieldtype': 'line_item_unit_price_gross',\n",
       "   'line_item_id': 15,\n",
       "   'text': '105.00'},\n",
       "  {'fieldtype': 'line_item_quantity', 'line_item_id': 15, 'text': '2'},\n",
       "  {'fieldtype': 'line_item_amount_gross',\n",
       "   'line_item_id': 15,\n",
       "   'text': '210.00'}],\n",
       " 'line_item_headers': [{'fieldtype': 'line_item_position',\n",
       "   'line_item_id': 0,\n",
       "   'text': '#'},\n",
       "  {'fieldtype': 'line_item_date', 'line_item_id': 0, 'text': 'Start\\nDate'},\n",
       "  {'fieldtype': 'line_item_date', 'line_item_id': 0, 'text': 'End Date'},\n",
       "  {'fieldtype': 'line_item_code', 'line_item_id': 0, 'text': 'Station'},\n",
       "  {'fieldtype': 'line_item_unit_price_gross',\n",
       "   'line_item_id': 0,\n",
       "   'text': 'Rate'},\n",
       "  {'fieldtype': 'line_item_quantity', 'line_item_id': 0, 'text': 'Qty'},\n",
       "  {'fieldtype': 'line_item_amount_gross', 'line_item_id': 0, 'text': 'Total'}]}"
      ]
     },
     "execution_count": 7,
     "metadata": {},
     "output_type": "execute_result"
    }
   ],
   "source": [
    "from ast import literal_eval\n",
    "\n",
    "literal_eval(ground_truth)['gt_parse']"
   ]
  },
  {
   "cell_type": "markdown",
   "id": "b4271ba1",
   "metadata": {},
   "source": [
    "## prepare Model for training"
   ]
  },
  {
   "cell_type": "code",
   "execution_count": 16,
   "id": "1c8b74e6",
   "metadata": {},
   "outputs": [],
   "source": [
    "from transformers import VisionEncoderDecoderConfig\n",
    "\n",
    "image_size = [1280, 960]\n",
    "max_length = 768\n",
    "\n",
    "# update image_size of the encoder\n",
    "# during pre-training, a larger image size was used\n",
    "config = VisionEncoderDecoderConfig.from_pretrained(\"naver-clova-ix/donut-base\")\n",
    "config.encoder.image_size = image_size # (height, width)\n",
    "# update max_length of the decoder (for generation)\n",
    "config.decoder.max_length = max_length"
   ]
  },
  {
   "cell_type": "code",
   "execution_count": 18,
   "id": "08bdef1b",
   "metadata": {},
   "outputs": [
    {
     "name": "stderr",
     "output_type": "stream",
     "text": [
      "Could not find image processor class in the image processor config or the model config. Loading based on pattern matching with the model's feature extractor configuration.\n"
     ]
    }
   ],
   "source": [
    "from transformers import DonutProcessor, VisionEncoderDecoderModel\n",
    "\n",
    "processor = DonutProcessor.from_pretrained(\"naver-clova-ix/donut-base\")\n",
    "model = VisionEncoderDecoderModel.from_pretrained(\"naver-clova-ix/donut-base\", config=config)"
   ]
  },
  {
   "cell_type": "code",
   "execution_count": 10,
   "id": "2576047c",
   "metadata": {},
   "outputs": [],
   "source": [
    "import json\n",
    "import random\n",
    "from typing import Any, List, Tuple\n",
    "\n",
    "import torch\n",
    "from torch.utils.data import Dataset\n",
    "\n",
    "added_tokens = []\n",
    "\n",
    "class DonutDataset(Dataset):\n",
    "    \"\"\"\n",
    "    PyTorch Dataset for Donut. This class takes a HuggingFace Dataset as input.\n",
    "    \n",
    "    Each row, consists of image path(png/jpg/jpeg) and gt data (json/jsonl/txt),\n",
    "    and it will be converted into pixel_values (vectorized image) and labels (input_ids of the tokenized string).\n",
    "    \n",
    "    Args:\n",
    "        dataset_name_or_path: name of dataset (available at huggingface.co/datasets) or the path containing image files and metadata.jsonl\n",
    "        max_length: the max number of tokens for the target sequences\n",
    "        split: whether to load \"train\", \"validation\" or \"test\" split\n",
    "        ignore_id: ignore_index for torch.nn.CrossEntropyLoss\n",
    "        task_start_token: the special token to be fed to the decoder to conduct the target task\n",
    "        prompt_end_token: the special token at the end of the sequences\n",
    "        sort_json_key: whether or not to sort the JSON keys\n",
    "    \"\"\"\n",
    "\n",
    "    def __init__(\n",
    "        self,\n",
    "        dataset_name_or_path: str,\n",
    "        max_length: int,\n",
    "        split: str = \"train\",\n",
    "        ignore_id: int = -100,\n",
    "        task_start_token: str = \"<s>\",\n",
    "        prompt_end_token: str = None,\n",
    "        sort_json_key: bool = True,\n",
    "    ):\n",
    "        super().__init__()\n",
    "\n",
    "        self.max_length = max_length\n",
    "        self.split = split\n",
    "        self.ignore_id = ignore_id\n",
    "        self.task_start_token = task_start_token\n",
    "        self.prompt_end_token = prompt_end_token if prompt_end_token else task_start_token\n",
    "        self.sort_json_key = sort_json_key\n",
    "\n",
    "        self.dataset = load_dataset(dataset_name_or_path, split=self.split)\n",
    "        self.dataset_length = len(self.dataset)\n",
    "\n",
    "        self.gt_token_sequences = []\n",
    "        for sample in self.dataset:\n",
    "            ground_truth = json.loads(sample[\"ground_truth\"])\n",
    "            if \"gt_parses\" in ground_truth:  # when multiple ground truths are available, e.g., docvqa\n",
    "                assert isinstance(ground_truth[\"gt_parses\"], list)\n",
    "                gt_jsons = ground_truth[\"gt_parses\"]\n",
    "            else:\n",
    "                assert \"gt_parse\" in ground_truth and isinstance(ground_truth[\"gt_parse\"], dict)\n",
    "                gt_jsons = [ground_truth[\"gt_parse\"]]\n",
    "\n",
    "            self.gt_token_sequences.append(\n",
    "                [\n",
    "                    self.json2token(\n",
    "                        gt_json,\n",
    "                        update_special_tokens_for_json_key=self.split == \"train\",\n",
    "                        sort_json_key=self.sort_json_key,\n",
    "                    )\n",
    "                    + processor.tokenizer.eos_token\n",
    "                    for gt_json in gt_jsons  # load json from list of json\n",
    "                ]\n",
    "            )\n",
    "\n",
    "        self.add_tokens([self.task_start_token, self.prompt_end_token])\n",
    "        self.prompt_end_token_id = processor.tokenizer.convert_tokens_to_ids(self.prompt_end_token)\n",
    "\n",
    "    def json2token(self, obj: Any, update_special_tokens_for_json_key: bool = True, sort_json_key: bool = True):\n",
    "        \"\"\"\n",
    "        Convert an ordered JSON object into a token sequence\n",
    "        \"\"\"\n",
    "        if type(obj) == dict:\n",
    "            if len(obj) == 1 and \"text_sequence\" in obj:\n",
    "                return obj[\"text_sequence\"]\n",
    "            else:\n",
    "                output = \"\"\n",
    "                if sort_json_key:\n",
    "                    keys = sorted(obj.keys(), reverse=True)\n",
    "                else:\n",
    "                    keys = obj.keys()\n",
    "                for k in keys:\n",
    "                    if update_special_tokens_for_json_key:\n",
    "                        self.add_tokens([fr\"<s_{k}>\", fr\"</s_{k}>\"])\n",
    "                    output += (\n",
    "                        fr\"<s_{k}>\"\n",
    "                        + self.json2token(obj[k], update_special_tokens_for_json_key, sort_json_key)\n",
    "                        + fr\"</s_{k}>\"\n",
    "                    )\n",
    "                return output\n",
    "        elif type(obj) == list:\n",
    "            return r\"<sep/>\".join(\n",
    "                [self.json2token(item, update_special_tokens_for_json_key, sort_json_key) for item in obj]\n",
    "            )\n",
    "        else:\n",
    "            obj = str(obj)\n",
    "            if f\"<{obj}/>\" in added_tokens:\n",
    "                obj = f\"<{obj}/>\"  # for categorical special tokens\n",
    "            return obj\n",
    "    \n",
    "    def add_tokens(self, list_of_tokens: List[str]):\n",
    "        \"\"\"\n",
    "        Add special tokens to tokenizer and resize the token embeddings of the decoder\n",
    "        \"\"\"\n",
    "        newly_added_num = processor.tokenizer.add_tokens(list_of_tokens)\n",
    "        if newly_added_num > 0:\n",
    "            model.decoder.resize_token_embeddings(len(processor.tokenizer))\n",
    "            added_tokens.extend(list_of_tokens)\n",
    "    \n",
    "    def __len__(self) -> int:\n",
    "        return self.dataset_length\n",
    "\n",
    "    def __getitem__(self, idx: int) -> Tuple[torch.Tensor, torch.Tensor, torch.Tensor]:\n",
    "        \"\"\"\n",
    "        Load image from image_path of given dataset_path and convert into input_tensor and labels\n",
    "        Convert gt data into input_ids (tokenized string)\n",
    "        Returns:\n",
    "            input_tensor : preprocessed image\n",
    "            input_ids : tokenized gt_data\n",
    "            labels : masked labels (model doesn't need to predict prompt and pad token)\n",
    "        \"\"\"\n",
    "        sample = self.dataset[idx]\n",
    "\n",
    "        # inputs\n",
    "        pixel_values = processor(sample[\"image\"], random_padding=self.split == \"train\", return_tensors=\"pt\").pixel_values\n",
    "        pixel_values = pixel_values.squeeze()\n",
    "\n",
    "        # targets\n",
    "        target_sequence = random.choice(self.gt_token_sequences[idx])  # can be more than one, e.g., DocVQA Task 1\n",
    "        input_ids = processor.tokenizer(\n",
    "            target_sequence,\n",
    "            add_special_tokens=False,\n",
    "            max_length=self.max_length,\n",
    "            padding=\"max_length\",\n",
    "            truncation=True,\n",
    "            return_tensors=\"pt\",\n",
    "        )[\"input_ids\"].squeeze(0)\n",
    "\n",
    "        labels = input_ids.clone()\n",
    "        labels[labels == processor.tokenizer.pad_token_id] = self.ignore_id  # model doesn't need to predict pad token\n",
    "        # labels[: torch.nonzero(labels == self.prompt_end_token_id).sum() + 1] = self.ignore_id  # model doesn't need to predict prompt (for VQA)\n",
    "        return pixel_values, labels, target_sequence"
   ]
  },
  {
   "cell_type": "markdown",
   "id": "aafb63b7",
   "metadata": {},
   "source": [
    "set train and val dataset"
   ]
  },
  {
   "cell_type": "code",
   "execution_count": 13,
   "id": "30f001b0",
   "metadata": {},
   "outputs": [
    {
     "data": {
      "application/vnd.jupyter.widget-view+json": {
       "model_id": "056cf059b4694b7395c75b31c4a5aa79",
       "version_major": 2,
       "version_minor": 0
      },
      "text/plain": [
       "Resolving data files:   0%|          | 0/10390 [00:00<?, ?it/s]"
      ]
     },
     "metadata": {},
     "output_type": "display_data"
    },
    {
     "data": {
      "application/vnd.jupyter.widget-view+json": {
       "model_id": "71ebd9cf35b848658e9059594c23bc08",
       "version_major": 2,
       "version_minor": 0
      },
      "text/plain": [
       "Resolving data files:   0%|          | 0/251 [00:00<?, ?it/s]"
      ]
     },
     "metadata": {},
     "output_type": "display_data"
    },
    {
     "data": {
      "application/vnd.jupyter.widget-view+json": {
       "model_id": "e014ee17b19e4bec8445294f4f7f06f4",
       "version_major": 2,
       "version_minor": 0
      },
      "text/plain": [
       "Resolving data files:   0%|          | 0/3755 [00:00<?, ?it/s]"
      ]
     },
     "metadata": {},
     "output_type": "display_data"
    },
    {
     "name": "stderr",
     "output_type": "stream",
     "text": [
      "You are resizing the embedding layer without providing a `pad_to_multiple_of` parameter. This means that the new embeding dimension will be 57527. This might induce some performance reduction as *Tensor Cores* will not be available. For more details  about this, or help on choosing the correct value for resizing, refer to this guide: https://docs.nvidia.com/deeplearning/performance/dl-performance-matrix-multiplication/index.html#requirements-tc\n",
      "You are resizing the embedding layer without providing a `pad_to_multiple_of` parameter. This means that the new embeding dimension will be 57529. This might induce some performance reduction as *Tensor Cores* will not be available. For more details  about this, or help on choosing the correct value for resizing, refer to this guide: https://docs.nvidia.com/deeplearning/performance/dl-performance-matrix-multiplication/index.html#requirements-tc\n",
      "You are resizing the embedding layer without providing a `pad_to_multiple_of` parameter. This means that the new embeding dimension will be 57531. This might induce some performance reduction as *Tensor Cores* will not be available. For more details  about this, or help on choosing the correct value for resizing, refer to this guide: https://docs.nvidia.com/deeplearning/performance/dl-performance-matrix-multiplication/index.html#requirements-tc\n",
      "You are resizing the embedding layer without providing a `pad_to_multiple_of` parameter. This means that the new embeding dimension will be 57533. This might induce some performance reduction as *Tensor Cores* will not be available. For more details  about this, or help on choosing the correct value for resizing, refer to this guide: https://docs.nvidia.com/deeplearning/performance/dl-performance-matrix-multiplication/index.html#requirements-tc\n",
      "You are resizing the embedding layer without providing a `pad_to_multiple_of` parameter. This means that the new embeding dimension will be 57535. This might induce some performance reduction as *Tensor Cores* will not be available. For more details  about this, or help on choosing the correct value for resizing, refer to this guide: https://docs.nvidia.com/deeplearning/performance/dl-performance-matrix-multiplication/index.html#requirements-tc\n",
      "You are resizing the embedding layer without providing a `pad_to_multiple_of` parameter. This means that the new embeding dimension will be 57537. This might induce some performance reduction as *Tensor Cores* will not be available. For more details  about this, or help on choosing the correct value for resizing, refer to this guide: https://docs.nvidia.com/deeplearning/performance/dl-performance-matrix-multiplication/index.html#requirements-tc\n",
      "You are resizing the embedding layer without providing a `pad_to_multiple_of` parameter. This means that the new embeding dimension will be 57538. This might induce some performance reduction as *Tensor Cores* will not be available. For more details  about this, or help on choosing the correct value for resizing, refer to this guide: https://docs.nvidia.com/deeplearning/performance/dl-performance-matrix-multiplication/index.html#requirements-tc\n"
     ]
    },
    {
     "data": {
      "application/vnd.jupyter.widget-view+json": {
       "model_id": "42c6723bb348427695fd4583082fba75",
       "version_major": 2,
       "version_minor": 0
      },
      "text/plain": [
       "Resolving data files:   0%|          | 0/10390 [00:00<?, ?it/s]"
      ]
     },
     "metadata": {},
     "output_type": "display_data"
    },
    {
     "data": {
      "application/vnd.jupyter.widget-view+json": {
       "model_id": "d2b9fb51b5b04aa1a9d35995f7845cef",
       "version_major": 2,
       "version_minor": 0
      },
      "text/plain": [
       "Resolving data files:   0%|          | 0/251 [00:00<?, ?it/s]"
      ]
     },
     "metadata": {},
     "output_type": "display_data"
    },
    {
     "data": {
      "application/vnd.jupyter.widget-view+json": {
       "model_id": "6b8b1a5fdde641f0b44184d3e62c15b7",
       "version_major": 2,
       "version_minor": 0
      },
      "text/plain": [
       "Resolving data files:   0%|          | 0/3755 [00:00<?, ?it/s]"
      ]
     },
     "metadata": {},
     "output_type": "display_data"
    }
   ],
   "source": [
    "# we update some settings which differ from pretraining; namely the size of the images + no rotation required\n",
    "# source: https://github.com/clovaai/donut/blob/master/config/train_cord.yaml\n",
    "processor.image_processor.size = image_size[::-1] # should be (width, height)\n",
    "processor.image_processor.do_align_long_axis = False\n",
    "\n",
    "train_dataset = DonutDataset(\"/home/sebastian/Documents/Hauptprojekt/Daten_Donut_all_classes\", max_length=max_length,\n",
    "                             split=\"train\", task_start_token=\"<s_docile>\", prompt_end_token=\"<s_docile>\",\n",
    "                             sort_json_key=False, # cord dataset is preprocessed, so no need for this\n",
    "                             )\n",
    "\n",
    "val_dataset = DonutDataset(\"/home/sebastian/Documents/Hauptprojekt/Daten_Donut_all_classes\", max_length=max_length,\n",
    "                             split=\"validation\", task_start_token=\"<s_docile>\", prompt_end_token=\"<s_docile>\",\n",
    "                             sort_json_key=False, # cord dataset is preprocessed, so no need for this\n",
    "                             )"
   ]
  },
  {
   "cell_type": "markdown",
   "id": "1b3bfe26",
   "metadata": {},
   "source": [
    "see how many custom tokens were added"
   ]
  },
  {
   "cell_type": "code",
   "execution_count": 14,
   "id": "473637fd",
   "metadata": {},
   "outputs": [
    {
     "data": {
      "text/plain": [
       "14"
      ]
     },
     "execution_count": 14,
     "metadata": {},
     "output_type": "execute_result"
    }
   ],
   "source": [
    "len(added_tokens)"
   ]
  },
  {
   "cell_type": "code",
   "execution_count": 15,
   "id": "302e7362",
   "metadata": {},
   "outputs": [
    {
     "name": "stdout",
     "output_type": "stream",
     "text": [
      "['<s_field_extractions>', '</s_field_extractions>', '<s_fieldtype>', '</s_fieldtype>', '<s_text>', '</s_text>', '<s_line_item_extractions>', '</s_line_item_extractions>', '<s_line_item_id>', '</s_line_item_id>', '<s_line_item_headers>', '</s_line_item_headers>', '<s_docile>', '<s_docile>']\n"
     ]
    }
   ],
   "source": [
    "print(added_tokens)"
   ]
  },
  {
   "cell_type": "code",
   "execution_count": 16,
   "id": "a370ba27",
   "metadata": {},
   "outputs": [
    {
     "name": "stdout",
     "output_type": "stream",
     "text": [
      "Original number of tokens: 57522\n",
      "Number of tokens after adding special tokens: 57538\n"
     ]
    }
   ],
   "source": [
    "print(\"Original number of tokens:\", processor.tokenizer.vocab_size)\n",
    "print(\"Number of tokens after adding special tokens:\", len(processor.tokenizer))"
   ]
  },
  {
   "cell_type": "code",
   "execution_count": 17,
   "id": "23b92a02",
   "metadata": {},
   "outputs": [
    {
     "data": {
      "text/plain": [
       "'</s_text>'"
      ]
     },
     "execution_count": 17,
     "metadata": {},
     "output_type": "execute_result"
    }
   ],
   "source": [
    "processor.decode([57530])"
   ]
  },
  {
   "cell_type": "markdown",
   "id": "493338cb",
   "metadata": {},
   "source": [
    "get torch Size"
   ]
  },
  {
   "cell_type": "code",
   "execution_count": 18,
   "id": "0d05e528",
   "metadata": {},
   "outputs": [],
   "source": [
    "pixel_values, labels, target_sequence = train_dataset[0]"
   ]
  },
  {
   "cell_type": "code",
   "execution_count": 19,
   "id": "adcacfb9",
   "metadata": {},
   "outputs": [
    {
     "name": "stdout",
     "output_type": "stream",
     "text": [
      "torch.Size([3, 1280, 960])\n"
     ]
    }
   ],
   "source": [
    "print(pixel_values.shape)"
   ]
  },
  {
   "cell_type": "markdown",
   "id": "c2f4cc35",
   "metadata": {},
   "source": [
    "look at an decoded example to test if it displays as expected"
   ]
  },
  {
   "cell_type": "code",
   "execution_count": 20,
   "id": "7adbaede",
   "metadata": {},
   "outputs": [
    {
     "name": "stdout",
     "output_type": "stream",
     "text": [
      "<s_field_extractions>\n",
      "<s_fieldtype>\n",
      "document\n",
      "_\n",
      "id\n",
      "</s_fieldtype>\n",
      "<s_text>\n",
      "25\n",
      "25\n",
      "4\n",
      "40\n",
      "785\n",
      "5\n",
      "77\n",
      "</s_text>\n",
      "<sep/>\n",
      "<s_fieldtype>\n",
      "date\n",
      "_\n",
      "is\n",
      "su\n",
      "e\n",
      "</s_fieldtype>\n",
      "<s_text>\n",
      "2020\n",
      "-08\n",
      "-18\n",
      "</s_text>\n",
      "<sep/>\n",
      "<s_fieldtype>\n"
     ]
    }
   ],
   "source": [
    "# let's print the labels (the first 30 token ID's)\n",
    "for id in labels.tolist()[:30]:\n",
    "    if id != -100:\n",
    "        print(processor.decode([id]))\n",
    "    else:\n",
    "        print(id)"
   ]
  },
  {
   "cell_type": "code",
   "execution_count": 21,
   "id": "d3b8e25c",
   "metadata": {},
   "outputs": [
    {
     "name": "stdout",
     "output_type": "stream",
     "text": [
      "<s_field_extractions><s_fieldtype>document_id</s_fieldtype><s_text>2525440785577</s_text><sep/><s_fieldtype>date_issue</s_fieldtype><s_text>2020-08-18</s_text><sep/><s_fieldtype>vendor_name</s_fieldtype><s_text>Mid-West Family</s_text><sep/><s_fieldtype>vendor_address</s_fieldtype><s_text>Mid-West Family\n",
      "P. O. BOX 107\n",
      "ST. JOSEPH, Michigan 49085</s_text><sep/><s_fieldtype>customer_billing_name</s_fieldtype><s_text>MAIN STREET MEDIA GROUP</s_text><sep/><s_fieldtype>customer_billing_address</s_fieldtype><s_text>MAIN STREET MEDIA GROUP\n",
      "PO Box 25093\n",
      "Alexandria, Virginia 22314</s_text><sep/><s_fieldtype>currency_code_amount_due</s_fieldtype><s_text>$</s_text><sep/><s_fieldtype>amount_total_gross</s_fieldtype><s_text>$3,220.00</s_text><sep/><s_fieldtype>amount_total_gross</s_fieldtype><s_text>$3,220.00</s_text><sep/><s_fieldtype>amount_total_gross</s_fieldtype><s_text>$3,220.00</s_text><sep/><s_fieldtype>amount_due</s_fieldtype><s_text>$2,737.00</s_text><sep/><s_fieldtype>amount_due</s_fieldtype><s_text>$2,737.00</s_text><sep/><s_fieldtype>amount_due</s_fieldtype><s_text>$2,737.00</s_text></s_field_extractions><s_line_item_extractions><s_fieldtype>line_item_position</s_fieldtype><s_line_item_id>1</s_line_item_id><s_text>1</s_text><sep/><s_fieldtype>line_item_date</s_fieldtype><s_line_item_id>1</s_line_item_id><s_text>08/19/20</s_text><sep/><s_fieldtype>line_item_date</s_fieldtype><s_line_item_id>1</s_line_item_id><s_text>08/19/20</s_text><sep/><s_fieldtype>line_item_code</s_fieldtype><s_line_item_id>1</s_line_item_id><s_text>WIRX-FM</s_text><sep/><s_fieldtype>line_item_unit_price_gross</s_fieldtype><s_line_item_id>1</s_line_item_id><s_text>112.00</s_text><sep/><s_fieldtype>line_item_quantity</s_fieldtype><s_line_item_id>1</s_line_item_id><s_text>2</s_text><sep/><s_fieldtype>line_item_amount_gross</s_fieldtype><s_line_item_id>1</s_line_item_id><s_text>224.00</s_text><sep/><s_fieldtype>line_item_position</s_fieldtype><s_line_item_id>2</s_line_item_id><s_text>2</s_text><sep/><s_fieldtype>line_item_date</s_fieldtype><s_line_item_id>2</s_line_item_id><s_text>08/19/20</s_text><sep/><s_fieldtype>line_item_date</s_fieldtype><s_line_item_id>2</s_line_item_id><s_text>08/19/20</s_text><sep/><s_fieldtype>line_item_code</s_fieldtype><s_line_item_id>2</s_line_item_id><s_text>WIRX-FM</s_text><sep/><s_fieldtype>line_item_unit_price_gross</s_fieldtype><s_line_item_id>2</s_line_item_id><s_text>105.00</s_text><sep/><s_fieldtype>line_item_quantity</s_fieldtype><s_line_item_id>2</s_line_item_id><s_text>2</s_text><sep/><s_fieldtype>line_item_amount_gross</s_fieldtype><s_line_item_id>2</s_line_item_id><s_text>210.00</s_text><sep/><s_fieldtype>line_item_position</s_fieldtype><s_line_item_id>3</s_line_item_id><s_text>3</s_text><sep/><s_fieldtype>line_item_date</s_fieldtype><s_line_item_id>3</s_line_item_id><s_text>08/19/20</s_text><sep/><s_fieldtype>line_item_date</s_fieldtype><s_line_item_id>3</s_line_item_id><s_text>08/19/20</s_text><sep/><s_fieldtype>line_item_code</s_fieldtype><s_line_item_id>3</s_line_item_id><s_text>WIRX-FM</s_text><sep/><s_fieldtype>line_item_unit_price_gross</s_fieldtype><s_line_item_id>3</s_line_item_id><s_text>105.00</s_text><sep/><s_fieldtype>line_item_quantity</s_fieldtype><s_line_item_id>3</s_line_item_id><s_text>2</s_text><sep/><s_fieldtype>line_item_amount_gross</s_fieldtype><s_line_item_id>3</s_line_item_id><s_text>210.00</s_text><sep/><s_fieldtype>line_item_position</s_fieldtype><s_line_item_id>4</s_line_item_id><s_text>4</s_text><sep/><s_fieldtype>line_item_date</s_fieldtype><s_line_item_id>4</s_line_item_id><s_text>08/20/20</s_text><sep/><s_fieldtype>line_item_date</s_fieldtype><s_line_item_id>4</s_line_item_id><s_text>08/20/20</s_text><sep/><s_fieldtype>line_item_code</s_fieldtype><s_line_item_id>4</s_line_item_id><s_text>WIRX-FM</s_text><sep/><s_fieldtype>line_item_unit_price_gross</s_fieldtype><s_line_item_id>4</s_line_item_id><s_text>112.00</s_text><sep/><s_fieldtype>line_item_quantity</s_fieldtype><s_line_item_id>4</s_line_item_id><s_text>2</s_text><sep/><s_fieldtype>line_item_amount_gross</s_fieldtype><s_line_item_id>4</s_line_item_id><s_text>224.00</s_text><sep/><s_fieldtype>line_item_position</s_fieldtype><s_line_item_id>5</s_line_item_id><s_text>5</s_text><sep/><s_fieldtype>line_item_date</s_fieldtype><s_line_item_id>5</s_line_item_id><s_text>08/20/20</s_text><sep/><s_fieldtype>line_item_date</s_fieldtype><s_line_item_id>5</s_line_item_id><s_text>08/20/20</s_text><sep/><s_fieldtype>line_item_code</s_fieldtype><s_line_item_id>5</s_line_item_id><s_text>WIRX-FM</s_text><sep/><s_fieldtype>line_item_unit_price_gross</s_fieldtype><s_line_item_id>5</s_line_item_id><s_text>105.00</s_text><sep/><s_fieldtype>line_item_quantity</s_fieldtype><s_line_item_id>5</s_line_item_id><s_text>2</s_text><sep/><s_fieldtype>line_item_amount_gross</s_fieldtype><s_line_item_id>5</s_line_item_id><s_text>210.00</s_text><sep/><s_fieldtype>line_item_position</s_fieldtype><s_line_item_id>6</s_line_item_id><s_text>6</s_text><sep/><s_fieldtype>line_item_date</s_fieldtype><s_line_item_id>6</s_line_item_id><s_text>08/20/20</s_text><sep/><s_fieldtype>line_item_date</s_fieldtype><s_line_item_id>6</s_line_item_id><s_text>08/20/20</s_text><sep/><s_fieldtype>line_item_code</s_fieldtype><s_line_item_id>6</s_line_item_id><s_text>WIRX-FM</s_text><sep/><s_fieldtype>line_item_unit_price_gross</s_fieldtype><s_line_item_id>6</s_line_item_id><s_text>105.00</s_text><sep/><s_fieldtype>line_item_quantity</s_fieldtype><s_line_item_id>6</s_line_item_id><s_text>2</s_text><sep/><s_fieldtype>line_item_amount_gross</s_fieldtype><s_line_item_id>6</s_line_item_id><s_text>210.00</s_text><sep/><s_fieldtype>line_item_position</s_fieldtype><s_line_item_id>7</s_line_item_id><s_text>7</s_text><sep/><s_fieldtype>line_item_date</s_fieldtype><s_line_item_id>7</s_line_item_id><s_text>08/21/20</s_text><sep/><s_fieldtype>line_item_date</s_fieldtype><s_line_item_id>7</s_line_item_id><s_text>08/21/20</s_text><sep/><s_fieldtype>line_item_code</s_fieldtype><s_line_item_id>7</s_line_item_id><s_text>WIRX-FM</s_text><sep/><s_fieldtype>line_item_unit_price_gross</s_fieldtype><s_line_item_id>7</s_line_item_id><s_text>112.00</s_text><sep/><s_fieldtype>line_item_quantity</s_fieldtype><s_line_item_id>7</s_line_item_id><s_text>2</s_text><sep/><s_fieldtype>line_item_amount_gross</s_fieldtype><s_line_item_id>7</s_line_item_id><s_text>224.00</s_text><sep/><s_fieldtype>line_item_position</s_fieldtype><s_line_item_id>8</s_line_item_id><s_text>8</s_text><sep/><s_fieldtype>line_item_date</s_fieldtype><s_line_item_id>8</s_line_item_id><s_text>08/21/20</s_text><sep/><s_fieldtype>line_item_date</s_fieldtype><s_line_item_id>8</s_line_item_id><s_text>08/21/20</s_text><sep/><s_fieldtype>line_item_code</s_fieldtype><s_line_item_id>8</s_line_item_id><s_text>WIRX-FM</s_text><sep/><s_fieldtype>line_item_unit_price_gross</s_fieldtype><s_line_item_id>8</s_line_item_id><s_text>105.00</s_text><sep/><s_fieldtype>line_item_quantity</s_fieldtype><s_line_item_id>8</s_line_item_id><s_text>2</s_text><sep/><s_fieldtype>line_item_amount_gross</s_fieldtype><s_line_item_id>8</s_line_item_id><s_text>210.00</s_text><sep/><s_fieldtype>line_item_position</s_fieldtype><s_line_item_id>9</s_line_item_id><s_text>9</s_text><sep/><s_fieldtype>line_item_date</s_fieldtype><s_line_item_id>9</s_line_item_id><s_text>08/21/20</s_text><sep/><s_fieldtype>line_item_date</s_fieldtype><s_line_item_id>9</s_line_item_id><s_text>08/21/20</s_text><sep/><s_fieldtype>line_item_code</s_fieldtype><s_line_item_id>9</s_line_item_id><s_text>WIRX-FM</s_text><sep/><s_fieldtype>line_item_unit_price_gross</s_fieldtype><s_line_item_id>9</s_line_item_id><s_text>105.00</s_text><sep/><s_fieldtype>line_item_quantity</s_fieldtype><s_line_item_id>9</s_line_item_id><s_text>2</s_text><sep/><s_fieldtype>line_item_amount_gross</s_fieldtype><s_line_item_id>9</s_line_item_id><s_text>210.00</s_text><sep/><s_fieldtype>line_item_position</s_fieldtype><s_line_item_id>10</s_line_item_id><s_text>10</s_text><sep/><s_fieldtype>line_item_date</s_fieldtype><s_line_item_id>10</s_line_item_id><s_text>08/24/20</s_text><sep/><s_fieldtype>line_item_date</s_fieldtype><s_line_item_id>10</s_line_item_id><s_text>08/24/20</s_text><sep/><s_fieldtype>line_item_code</s_fieldtype><s_line_item_id>10</s_line_item_id><s_text>WIRX-FM</s_text><sep/><s_fieldtype>line_item_unit_price_gross</s_fieldtype><s_line_item_id>10</s_line_item_id><s_text>112.00</s_text><sep/><s_fieldtype>line_item_quantity</s_fieldtype><s_line_item_id>10</s_line_item_id><s_text>2</s_text><sep/><s_fieldtype>line_item_amount_gross</s_fieldtype><s_line_item_id>10</s_line_item_id><s_text>224.00</s_text><sep/><s_fieldtype>line_item_position</s_fieldtype><s_line_item_id>11</s_line_item_id><s_text>11</s_text><sep/><s_fieldtype>line_item_date</s_fieldtype><s_line_item_id>11</s_line_item_id><s_text>08/24/20</s_text><sep/><s_fieldtype>line_item_date</s_fieldtype><s_line_item_id>11</s_line_item_id><s_text>08/24/20</s_text><sep/><s_fieldtype>line_item_code</s_fieldtype><s_line_item_id>11</s_line_item_id><s_text>WIRX-FM</s_text><sep/><s_fieldtype>line_item_unit_price_gross</s_fieldtype><s_line_item_id>11</s_line_item_id><s_text>105.00</s_text><sep/><s_fieldtype>line_item_quantity</s_fieldtype><s_line_item_id>11</s_line_item_id><s_text>2</s_text><sep/><s_fieldtype>line_item_amount_gross</s_fieldtype><s_line_item_id>11</s_line_item_id><s_text>210.00</s_text><sep/><s_fieldtype>line_item_position</s_fieldtype><s_line_item_id>12</s_line_item_id><s_text>12</s_text><sep/><s_fieldtype>line_item_date</s_fieldtype><s_line_item_id>12</s_line_item_id><s_text>08/24/20</s_text><sep/><s_fieldtype>line_item_date</s_fieldtype><s_line_item_id>12</s_line_item_id><s_text>08/24/20</s_text><sep/><s_fieldtype>line_item_code</s_fieldtype><s_line_item_id>12</s_line_item_id><s_text>WIRX-FM</s_text><sep/><s_fieldtype>line_item_unit_price_gross</s_fieldtype><s_line_item_id>12</s_line_item_id><s_text>105.00</s_text><sep/><s_fieldtype>line_item_quantity</s_fieldtype><s_line_item_id>12</s_line_item_id><s_text>2</s_text><sep/><s_fieldtype>line_item_amount_gross</s_fieldtype><s_line_item_id>12</s_line_item_id><s_text>210.00</s_text><sep/><s_fieldtype>line_item_position</s_fieldtype><s_line_item_id>13</s_line_item_id><s_text>13</s_text><sep/><s_fieldtype>line_item_date</s_fieldtype><s_line_item_id>13</s_line_item_id><s_text>08/25/20</s_text><sep/><s_fieldtype>line_item_date</s_fieldtype><s_line_item_id>13</s_line_item_id><s_text>08/25/20</s_text><sep/><s_fieldtype>line_item_code</s_fieldtype><s_line_item_id>13</s_line_item_id><s_text>WIRX-FM</s_text><sep/><s_fieldtype>line_item_unit_price_gross</s_fieldtype><s_line_item_id>13</s_line_item_id><s_text>112.00</s_text><sep/><s_fieldtype>line_item_quantity</s_fieldtype><s_line_item_id>13</s_line_item_id><s_text>2</s_text><sep/><s_fieldtype>line_item_amount_gross</s_fieldtype><s_line_item_id>13</s_line_item_id><s_text>224.00</s_text><sep/><s_fieldtype>line_item_position</s_fieldtype><s_line_item_id>14</s_line_item_id><s_text>14</s_text><sep/><s_fieldtype>line_item_date</s_fieldtype><s_line_item_id>14</s_line_item_id><s_text>08/25/20</s_text><sep/><s_fieldtype>line_item_date</s_fieldtype><s_line_item_id>14</s_line_item_id><s_text>08/25/20</s_text><sep/><s_fieldtype>line_item_code</s_fieldtype><s_line_item_id>14</s_line_item_id><s_text>WIRX-FM</s_text><sep/><s_fieldtype>line_item_unit_price_gross</s_fieldtype><s_line_item_id>14</s_line_item_id><s_text>105.00</s_text><sep/><s_fieldtype>line_item_quantity</s_fieldtype><s_line_item_id>14</s_line_item_id><s_text>2</s_text><sep/><s_fieldtype>line_item_amount_gross</s_fieldtype><s_line_item_id>14</s_line_item_id><s_text>210.00</s_text><sep/><s_fieldtype>line_item_position</s_fieldtype><s_line_item_id>15</s_line_item_id><s_text>15</s_text><sep/><s_fieldtype>line_item_date</s_fieldtype><s_line_item_id>15</s_line_item_id><s_text>08/25/20</s_text><sep/><s_fieldtype>line_item_date</s_fieldtype><s_line_item_id>15</s_line_item_id><s_text>08/25/20</s_text><sep/><s_fieldtype>line_item_code</s_fieldtype><s_line_item_id>15</s_line_item_id><s_text>WIRX-FM</s_text><sep/><s_fieldtype>line_item_unit_price_gross</s_fieldtype><s_line_item_id>15</s_line_item_id><s_text>105.00</s_text><sep/><s_fieldtype>line_item_quantity</s_fieldtype><s_line_item_id>15</s_line_item_id><s_text>2</s_text><sep/><s_fieldtype>line_item_amount_gross</s_fieldtype><s_line_item_id>15</s_line_item_id><s_text>210.00</s_text></s_line_item_extractions><s_line_item_headers><s_fieldtype>line_item_position</s_fieldtype><s_line_item_id>0</s_line_item_id><s_text>#</s_text><sep/><s_fieldtype>line_item_date</s_fieldtype><s_line_item_id>0</s_line_item_id><s_text>Start\n",
      "Date</s_text><sep/><s_fieldtype>line_item_date</s_fieldtype><s_line_item_id>0</s_line_item_id><s_text>End Date</s_text><sep/><s_fieldtype>line_item_code</s_fieldtype><s_line_item_id>0</s_line_item_id><s_text>Station</s_text><sep/><s_fieldtype>line_item_unit_price_gross</s_fieldtype><s_line_item_id>0</s_line_item_id><s_text>Rate</s_text><sep/><s_fieldtype>line_item_quantity</s_fieldtype><s_line_item_id>0</s_line_item_id><s_text>Qty</s_text><sep/><s_fieldtype>line_item_amount_gross</s_fieldtype><s_line_item_id>0</s_line_item_id><s_text>Total</s_text></s_line_item_headers></s>\n"
     ]
    }
   ],
   "source": [
    "print(target_sequence)"
   ]
  },
  {
   "cell_type": "code",
   "execution_count": 22,
   "id": "dba5c150",
   "metadata": {},
   "outputs": [],
   "source": [
    "model.config.pad_token_id = processor.tokenizer.pad_token_id\n",
    "model.config.decoder_start_token_id = processor.tokenizer.convert_tokens_to_ids(['<s_docile>'])[0]"
   ]
  },
  {
   "cell_type": "code",
   "execution_count": 23,
   "id": "924d2ee0",
   "metadata": {},
   "outputs": [
    {
     "name": "stdout",
     "output_type": "stream",
     "text": [
      "Pad token ID: <pad>\n",
      "Decoder start token ID: <s_docile>\n"
     ]
    }
   ],
   "source": [
    "# sanity check\n",
    "print(\"Pad token ID:\", processor.decode([model.config.pad_token_id]))\n",
    "print(\"Decoder start token ID:\", processor.decode([model.config.decoder_start_token_id]))"
   ]
  },
  {
   "cell_type": "markdown",
   "id": "bbe0e02c",
   "metadata": {},
   "source": [
    "## create Dataloader"
   ]
  },
  {
   "cell_type": "code",
   "execution_count": 24,
   "id": "69b9a02c",
   "metadata": {},
   "outputs": [],
   "source": [
    "from torch.utils.data import DataLoader\n",
    "\n",
    "# feel free to increase the batch size if you have a lot of memory\n",
    "# I'm fine-tuning on Colab and given the large image size, batch size > 1 is not feasible\n",
    "train_dataloader = DataLoader(train_dataset, batch_size=1, shuffle=True, num_workers=4)\n",
    "val_dataloader = DataLoader(val_dataset, batch_size=1, shuffle=False, num_workers=4)"
   ]
  },
  {
   "cell_type": "code",
   "execution_count": 25,
   "id": "83c58480",
   "metadata": {},
   "outputs": [
    {
     "name": "stdout",
     "output_type": "stream",
     "text": [
      "huggingface/tokenizers: The current process just got forked, after parallelism has already been used. Disabling parallelism to avoid deadlocks...\n",
      "To disable this warning, you can either:\n",
      "\t- Avoid using `tokenizers` before the fork if possible\n",
      "\t- Explicitly set the environment variable TOKENIZERS_PARALLELISM=(true | false)\n",
      "huggingface/tokenizers: The current process just got forked, after parallelism has already been used. Disabling parallelism to avoid deadlocks...\n",
      "To disable this warning, you can either:\n",
      "\t- Avoid using `tokenizers` before the fork if possible\n",
      "\t- Explicitly set the environment variable TOKENIZERS_PARALLELISM=(true | false)\n",
      "huggingface/tokenizers: The current process just got forked, after parallelism has already been used. Disabling parallelism to avoid deadlocks...\n",
      "To disable this warning, you can either:\n",
      "\t- Avoid using `tokenizers` before the fork if possible\n",
      "\t- Explicitly set the environment variable TOKENIZERS_PARALLELISM=(true | false)\n",
      "huggingface/tokenizers: The current process just got forked, after parallelism has already been used. Disabling parallelism to avoid deadlocks...\n",
      "To disable this warning, you can either:\n",
      "\t- Avoid using `tokenizers` before the fork if possible\n",
      "\t- Explicitly set the environment variable TOKENIZERS_PARALLELISM=(true | false)\n",
      "\t- Explicitly set the environment variable TOKENIZERS_PARALLELISM=(true | false)\n",
      "torch.Size([1, 3, 1280, 960])\n"
     ]
    }
   ],
   "source": [
    "batch = next(iter(train_dataloader))\n",
    "pixel_values, labels, target_sequences = batch\n",
    "print(pixel_values.shape)"
   ]
  },
  {
   "cell_type": "code",
   "execution_count": 26,
   "id": "f1a7edd9",
   "metadata": {},
   "outputs": [
    {
     "name": "stdout",
     "output_type": "stream",
     "text": [
      "<s_field_extractions>\n",
      "<s_fieldtype>\n",
      "vend\n",
      "or\n",
      "_\n",
      "name\n",
      "</s_fieldtype>\n",
      "<s_text>\n",
      "Ira\n",
      "</s_text>\n",
      "<sep/>\n",
      "<s_fieldtype>\n",
      "amount\n",
      "_\n",
      "du\n",
      "e\n",
      "</s_fieldtype>\n",
      "<s_text>\n",
      "$\n",
      "31\n",
      "18\n",
      ".\n",
      "2\n",
      "</s_text>\n",
      "<sep/>\n",
      "<s_fieldtype>\n",
      "customer\n",
      "_\n",
      "deli\n",
      "ver\n",
      "y\n",
      "_\n",
      "name\n",
      "</s_fieldtype>\n",
      "<s_text>\n",
      "Verdi\n",
      "e\n",
      "Good\n",
      "win\n",
      "</s_text>\n",
      "<sep/>\n",
      "<s_fieldtype>\n",
      "customer\n",
      "_\n",
      "deli\n",
      "ver\n",
      "y\n",
      "_\n",
      "ad\n",
      "dre\n",
      "s\n",
      "s\n",
      "</s_fieldtype>\n",
      "<s_text>\n",
      "Verdi\n",
      "e\n",
      "Good\n",
      "win\n",
      "4\n",
      "76\n",
      "Santa\n",
      "Paula\n",
      "Land\n",
      "ing\n",
      "Map\n",
      "le\n",
      "wood\n",
      "United\n",
      "States\n",
      "</s_text>\n",
      "<sep/>\n",
      "<s_fieldtype>\n",
      "customer\n",
      "_\n",
      "bil\n",
      "ling\n",
      "_\n",
      "name\n",
      "</s_fieldtype>\n",
      "<s_text>\n",
      "Lo\n",
      "nna\n",
      "Bar\n",
      "re\n",
      "ra\n",
      "</s_text>\n",
      "<sep/>\n",
      "<s_fieldtype>\n",
      "vend\n",
      "or\n",
      "_\n",
      "ad\n",
      "dre\n",
      "s\n",
      "s\n",
      "</s_fieldtype>\n",
      "<s_text>\n",
      "Ira\n",
      "\n",
      "754\n",
      "Rod\n",
      "gers\n",
      "Ran\n",
      "ch\n",
      "Spar\n",
      "ks\n",
      "A\n",
      "W\n",
      "7\n",
      "21\n",
      "09\n",
      "</s_text>\n",
      "<sep/>\n",
      "<s_fieldtype>\n",
      "amount\n",
      "_\n",
      "to\n",
      "tal\n",
      "_\n",
      "gros\n",
      "s\n",
      "</s_fieldtype>\n",
      "<s_text>\n",
      "$\n",
      "31\n",
      "18\n",
      ".\n",
      "2\n",
      "</s_text>\n",
      "<sep/>\n",
      "<s_fieldtype>\n",
      "customer\n",
      "_\n",
      "bil\n",
      "ling\n",
      "_\n",
      "ad\n",
      "dre\n",
      "s\n",
      "s\n",
      "</s_fieldtype>\n",
      "<s_text>\n",
      "Lo\n",
      "nna\n",
      "Bar\n",
      "re\n",
      "ra\n",
      "90\n",
      "8\n",
      "Cla\n",
      "ir\n",
      "view\n",
      "A\n",
      "venue\n",
      "182\n",
      "72\n",
      "Cer\n",
      "rito\n",
      "s\n",
      "</s_text>\n",
      "<sep/>\n",
      "<s_fieldtype>\n",
      "date\n",
      "_\n",
      "is\n",
      "su\n",
      "e\n",
      "</s_fieldtype>\n",
      "<s_text>\n",
      "08\n",
      "/2\n",
      "2/\n",
      "2020\n",
      "</s_text>\n",
      "<sep/>\n",
      "<s_fieldtype>\n",
      "cur\n",
      "ren\n",
      "cy\n",
      "_\n",
      "code\n",
      "_\n",
      "a\n",
      "mount\n",
      "_\n",
      "du\n",
      "e\n",
      "</s_fieldtype>\n",
      "<s_text>\n",
      "$\n",
      "</s_text>\n",
      "<sep/>\n",
      "<s_fieldtype>\n",
      "document\n",
      "_\n",
      "id\n",
      "</s_fieldtype>\n",
      "<s_text>\n",
      "01\n",
      "76\n",
      "</s_text>\n",
      "</s_field_extractions>\n",
      "<s_line_item_extractions>\n",
      "<s_fieldtype>\n",
      "line\n",
      "_\n",
      "it\n",
      "em\n",
      "_\n",
      "de\n",
      "scription\n",
      "</s_fieldtype>\n",
      "<s_line_item_id>\n",
      "1\n",
      "</s_line_item_id>\n",
      "<s_text>\n",
      "AMD\n",
      "Ry\n",
      "zen\n",
      "TM\n",
      "Th\n",
      "read\n",
      "ri\n",
      "pper\n",
      "TM\n",
      "</s_text>\n",
      "<sep/>\n",
      "<s_fieldtype>\n",
      "line\n",
      "_\n",
      "it\n",
      "em\n",
      "_\n",
      "quant\n",
      "ity\n",
      "</s_fieldtype>\n",
      "<s_line_item_id>\n",
      "1\n",
      "</s_line_item_id>\n",
      "<s_text>\n",
      "1\n",
      "</s_text>\n",
      "<sep/>\n",
      "<s_fieldtype>\n",
      "line\n",
      "_\n",
      "it\n",
      "em\n",
      "_\n",
      "un\n",
      "it\n",
      "_\n",
      "pri\n",
      "ce\n",
      "_\n",
      "gros\n",
      "s\n",
      "</s_fieldtype>\n",
      "<s_line_item_id>\n",
      "1\n",
      "</s_line_item_id>\n",
      "<s_text>\n",
      "1.\n",
      "42\n",
      "</s_text>\n",
      "<sep/>\n",
      "<s_fieldtype>\n",
      "line\n",
      "_\n",
      "it\n",
      "em\n",
      "_\n",
      "a\n",
      "mount\n",
      "_\n",
      "gros\n",
      "s\n",
      "</s_fieldtype>\n",
      "<s_line_item_id>\n",
      "1\n",
      "</s_line_item_id>\n",
      "<s_text>\n",
      "1.\n",
      "42\n",
      "</s_text>\n",
      "<sep/>\n",
      "<s_fieldtype>\n",
      "line\n",
      "_\n",
      "it\n",
      "em\n",
      "_\n",
      "de\n",
      "scription\n",
      "</s_fieldtype>\n",
      "<s_line_item_id>\n",
      "2\n",
      "</s_line_item_id>\n",
      "<s_text>\n",
      "Samsung\n",
      "Galaxy\n",
      "Chat\n",
      "</s_text>\n",
      "<sep/>\n",
      "<s_fieldtype>\n",
      "line\n",
      "_\n",
      "it\n",
      "em\n",
      "_\n",
      "quant\n",
      "ity\n",
      "</s_fieldtype>\n",
      "<s_line_item_id>\n",
      "2\n",
      "</s_line_item_id>\n",
      "<s_text>\n",
      "1\n",
      "</s_text>\n",
      "<sep/>\n",
      "<s_fieldtype>\n",
      "line\n",
      "_\n",
      "it\n",
      "em\n",
      "_\n",
      "un\n",
      "it\n",
      "_\n",
      "pri\n",
      "ce\n",
      "_\n",
      "gros\n",
      "s\n",
      "</s_fieldtype>\n",
      "<s_line_item_id>\n",
      "2\n",
      "</s_line_item_id>\n",
      "<s_text>\n",
      "29.\n",
      "33\n",
      "</s_text>\n",
      "<sep/>\n",
      "<s_fieldtype>\n",
      "line\n",
      "_\n",
      "it\n",
      "em\n",
      "_\n",
      "a\n",
      "mount\n",
      "_\n",
      "gros\n",
      "s\n",
      "</s_fieldtype>\n",
      "<s_line_item_id>\n",
      "2\n",
      "</s_line_item_id>\n",
      "<s_text>\n",
      "29.\n",
      "33\n",
      "</s_text>\n",
      "<sep/>\n",
      "<s_fieldtype>\n",
      "line\n",
      "_\n",
      "it\n",
      "em\n",
      "_\n",
      "de\n",
      "scription\n",
      "</s_fieldtype>\n",
      "<s_line_item_id>\n",
      "3\n",
      "</s_line_item_id>\n",
      "<s_text>\n",
      "Ne\n",
      "xus\n",
      "7\n",
      "</s_text>\n",
      "<sep/>\n",
      "<s_fieldtype>\n",
      "line\n",
      "_\n",
      "it\n",
      "em\n",
      "_\n",
      "quant\n",
      "ity\n",
      "</s_fieldtype>\n",
      "<s_line_item_id>\n",
      "3\n",
      "</s_line_item_id>\n",
      "<s_text>\n",
      "41\n",
      "</s_text>\n",
      "<sep/>\n",
      "<s_fieldtype>\n",
      "line\n",
      "_\n",
      "it\n",
      "em\n",
      "_\n",
      "un\n",
      "it\n",
      "_\n",
      "pri\n",
      "ce\n",
      "_\n",
      "gros\n",
      "s\n",
      "</s_fieldtype>\n",
      "<s_line_item_id>\n",
      "3\n",
      "</s_line_item_id>\n",
      "<s_text>\n",
      "67\n",
      ".\n",
      "53\n",
      "</s_text>\n",
      "<sep/>\n",
      "<s_fieldtype>\n",
      "line\n",
      "_\n",
      "it\n",
      "em\n",
      "_\n",
      "a\n",
      "mount\n",
      "_\n",
      "gros\n",
      "s\n",
      "</s_fieldtype>\n",
      "<s_line_item_id>\n",
      "3\n",
      "</s_line_item_id>\n",
      "<s_text>\n",
      "2\n",
      "768\n",
      ".\n",
      "73\n",
      "</s_text>\n",
      "<sep/>\n",
      "<s_fieldtype>\n",
      "line\n",
      "_\n",
      "it\n",
      "em\n",
      "_\n",
      "de\n",
      "scription\n",
      "</s_fieldtype>\n",
      "<s_line_item_id>\n",
      "4\n",
      "</s_line_item_id>\n",
      "<s_text>\n",
      "Intel\n",
      "®\n",
      "Core\n",
      "i\n",
      "5\n",
      "</s_text>\n",
      "<sep/>\n",
      "<s_fieldtype>\n",
      "line\n",
      "_\n",
      "it\n",
      "em\n",
      "_\n",
      "quant\n",
      "ity\n",
      "</s_fieldtype>\n",
      "<s_line_item_id>\n",
      "4\n",
      "</s_line_item_id>\n",
      "<s_text>\n",
      "1\n",
      "</s_text>\n",
      "<sep/>\n",
      "<s_fieldtype>\n",
      "line\n",
      "_\n",
      "it\n",
      "em\n",
      "_\n",
      "un\n",
      "it\n",
      "_\n",
      "pri\n",
      "ce\n",
      "_\n",
      "gros\n",
      "s\n",
      "</s_fieldtype>\n",
      "<s_line_item_id>\n",
      "4\n",
      "</s_line_item_id>\n",
      "<s_text>\n",
      "25.\n",
      "43\n",
      "</s_text>\n",
      "<sep/>\n",
      "<s_fieldtype>\n",
      "line\n",
      "_\n",
      "it\n",
      "em\n",
      "_\n",
      "a\n",
      "mount\n",
      "_\n",
      "gros\n",
      "s\n",
      "</s_fieldtype>\n",
      "<s_line_item_id>\n",
      "4\n",
      "</s_line_item_id>\n",
      "<s_text>\n",
      "25.\n",
      "43\n",
      "</s_text>\n",
      "<sep/>\n",
      "<s_fieldtype>\n",
      "line\n",
      "_\n",
      "it\n",
      "em\n",
      "_\n",
      "de\n",
      "scription\n",
      "</s_fieldtype>\n",
      "<s_line_item_id>\n",
      "5\n",
      "</s_line_item_id>\n",
      "<s_text>\n",
      "1\n",
      "TB\n",
      "HD\n",
      "D\n",
      "</s_text>\n",
      "<sep/>\n",
      "<s_fieldtype>\n",
      "line\n",
      "_\n",
      "it\n",
      "em\n",
      "_\n",
      "quant\n",
      "ity\n",
      "</s_fieldtype>\n",
      "<s_line_item_id>\n",
      "5\n",
      "</s_line_item_id>\n",
      "<s_text>\n",
      "43\n",
      "</s_text>\n",
      "<sep/>\n",
      "<s_fieldtype>\n",
      "line\n",
      "_\n",
      "it\n",
      "em\n",
      "_\n",
      "un\n",
      "it\n",
      "_\n",
      "pri\n",
      "ce\n",
      "_\n",
      "gros\n",
      "s\n",
      "</s_fieldtype>\n",
      "<s_line_item_id>\n",
      "5\n",
      "</s_line_item_id>\n",
      "<s_text>\n",
      "3.0\n",
      "2\n",
      "</s_text>\n",
      "<sep/>\n",
      "<s_fieldtype>\n",
      "line\n",
      "_\n",
      "it\n",
      "em\n",
      "_\n",
      "a\n",
      "mount\n",
      "_\n",
      "gros\n",
      "s\n",
      "</s_fieldtype>\n",
      "<s_line_item_id>\n",
      "5\n",
      "</s_line_item_id>\n",
      "<s_text>\n",
      "129\n",
      ".\n",
      "86\n",
      "</s_text>\n",
      "<sep/>\n",
      "<s_fieldtype>\n",
      "line\n",
      "_\n",
      "it\n",
      "em\n",
      "_\n",
      "de\n",
      "scription\n",
      "</s_fieldtype>\n",
      "<s_line_item_id>\n",
      "6\n",
      "</s_line_item_id>\n",
      "<s_text>\n",
      "N\n",
      "VI\n",
      "DIA\n",
      "Ge\n",
      "For\n",
      "ce\n",
      "G\n",
      "TX\n",
      "\n",
      "980\n",
      "</s_text>\n",
      "<sep/>\n",
      "<s_fieldtype>\n",
      "line\n",
      "_\n",
      "it\n",
      "em\n",
      "_\n",
      "quant\n",
      "ity\n",
      "</s_fieldtype>\n",
      "<s_line_item_id>\n",
      "6\n",
      "</s_line_item_id>\n",
      "<s_text>\n",
      "\n",
      "187\n",
      "</s_text>\n",
      "<sep/>\n",
      "<s_fieldtype>\n",
      "line\n",
      "_\n",
      "it\n",
      "em\n",
      "_\n",
      "un\n",
      "it\n",
      "_\n",
      "pri\n",
      "ce\n",
      "_\n",
      "gros\n",
      "s\n",
      "</s_fieldtype>\n",
      "<s_line_item_id>\n",
      "6\n",
      "</s_line_item_id>\n",
      "<s_text>\n",
      "1.\n",
      "29\n",
      "</s_text>\n",
      "<sep/>\n",
      "<s_fieldtype>\n",
      "line\n",
      "_\n",
      "it\n",
      "em\n",
      "_\n",
      "a\n",
      "mount\n",
      "_\n",
      "gros\n",
      "s\n",
      "</s_fieldtype>\n",
      "<s_line_item_id>\n",
      "6\n",
      "</s_line_item_id>\n",
      "<s_text>\n",
      "24\n",
      "1.2\n",
      "3\n",
      "</s_text>\n",
      "</s_line_item_extractions>\n",
      "<s_line_item_headers>\n",
      "<s_fieldtype>\n",
      "line\n",
      "_\n",
      "it\n",
      "em\n",
      "_\n",
      "de\n",
      "scription\n",
      "</s_fieldtype>\n",
      "<s_line_item_id>\n",
      "0\n",
      "</s_line_item_id>\n",
      "<s_text>\n",
      "DES\n",
      "CR\n",
      "IP\n",
      "TION\n",
      "</s_text>\n",
      "<sep/>\n",
      "<s_fieldtype>\n",
      "line\n",
      "_\n",
      "it\n",
      "em\n",
      "_\n",
      "quant\n",
      "ity\n",
      "</s_fieldtype>\n",
      "<s_line_item_id>\n",
      "0\n",
      "</s_line_item_id>\n",
      "<s_text>\n",
      "Q\n",
      "TY\n",
      "</s_text>\n",
      "<sep/>\n",
      "<s_fieldtype>\n",
      "line\n",
      "_\n",
      "it\n",
      "em\n",
      "_\n",
      "un\n",
      "it\n",
      "_\n",
      "pri\n",
      "ce\n",
      "_\n",
      "gros\n",
      "s\n",
      "</s_fieldtype>\n",
      "<s_line_item_id>\n",
      "0\n",
      "</s_line_item_id>\n",
      "<s_text>\n",
      "R\n",
      "ATE\n",
      "</s_text>\n",
      "<sep/>\n",
      "<s_fieldtype>\n",
      "line\n",
      "_\n",
      "it\n",
      "em\n",
      "_\n",
      "a\n",
      "mount\n",
      "_\n",
      "gros\n",
      "s\n",
      "</s_fieldtype>\n",
      "<s_line_item_id>\n",
      "0\n",
      "</s_line_item_id>\n",
      "<s_text>\n",
      "A\n",
      "MO\n",
      "UNT\n",
      "</s_text>\n",
      "</s_line_item_headers>\n"
     ]
    }
   ],
   "source": [
    "for id in labels.squeeze().tolist():\n",
    "    if id != -100:\n",
    "        print(processor.decode([id]))\n",
    "    else:\n",
    "        print(id)"
   ]
  },
  {
   "cell_type": "code",
   "execution_count": 27,
   "id": "faaf1539",
   "metadata": {},
   "outputs": [
    {
     "name": "stdout",
     "output_type": "stream",
     "text": [
      "huggingface/tokenizers: The current process just got forked, after parallelism has already been used. Disabling parallelism to avoid deadlocks...\n",
      "To disable this warning, you can either:\n",
      "\t- Avoid using `tokenizers` before the fork if possible\n",
      "\t- Explicitly set the environment variable TOKENIZERS_PARALLELISM=(true | false)\n",
      "huggingface/tokenizers: The current process just got forked, after parallelism has already been used. Disabling parallelism to avoid deadlocks...\n",
      "To disable this warning, you can either:\n",
      "\t- Avoid using `tokenizers` before the fork if possible\n",
      "\t- Explicitly set the environment variable TOKENIZERS_PARALLELISM=(true | false)\n",
      "huggingface/tokenizers: The current process just got forked, after parallelism has already been used. Disabling parallelism to avoid deadlocks...\n",
      "To disable this warning, you can either:\n",
      "\t- Avoid using `tokenizers` before the fork if possible\n",
      "\t- Explicitly set the environment variable TOKENIZERS_PARALLELISM=(true | false)\n",
      "huggingface/tokenizers: The current process just got forked, after parallelism has already been used. Disabling parallelism to avoid deadlocks...\n",
      "To disable this warning, you can either:\n",
      "\t- Avoid using `tokenizers` before the fork if possible\n",
      "\t- Explicitly set the environment variable TOKENIZERS_PARALLELISM=(true | false)\n",
      "\t- Explicitly set the environment variable TOKENIZERS_PARALLELISM=(true | false)\n",
      "torch.Size([1, 3, 1280, 960])\n"
     ]
    }
   ],
   "source": [
    "# let's check the first validation batch\n",
    "batch = next(iter(val_dataloader))\n",
    "pixel_values, labels, target_sequences = batch\n",
    "print(pixel_values.shape)"
   ]
  },
  {
   "cell_type": "code",
   "execution_count": 28,
   "id": "c54a1c11",
   "metadata": {},
   "outputs": [],
   "source": [
    "from pathlib import Path\n",
    "import re\n",
    "from nltk import edit_distance\n",
    "import numpy as np\n",
    "import math\n",
    "\n",
    "from torch.nn.utils.rnn import pad_sequence\n",
    "from torch.optim.lr_scheduler import LambdaLR\n",
    "\n",
    "import pytorch_lightning as pl\n",
    "from pytorch_lightning.utilities import rank_zero_only\n",
    "\n",
    "\n",
    "class DonutModelPLModule(pl.LightningModule):\n",
    "    def __init__(self, config, processor, model):\n",
    "        super().__init__()\n",
    "        self.config = config\n",
    "        self.processor = processor\n",
    "        self.model = model\n",
    "\n",
    "    def training_step(self, batch, batch_idx):\n",
    "        pixel_values, labels, _ = batch\n",
    "        \n",
    "        outputs = self.model(pixel_values, labels=labels)\n",
    "        loss = outputs.loss\n",
    "        self.log(\"train_loss\", loss)\n",
    "        return loss\n",
    "\n",
    "    def validation_step(self, batch, batch_idx, dataset_idx=0):\n",
    "        pixel_values, labels, answers = batch\n",
    "        batch_size = pixel_values.shape[0]\n",
    "        # we feed the prompt to the model\n",
    "        decoder_input_ids = torch.full((batch_size, 1), self.model.config.decoder_start_token_id, device=self.device)\n",
    "        \n",
    "        outputs = self.model.generate(pixel_values,\n",
    "                                   decoder_input_ids=decoder_input_ids,\n",
    "                                   max_length=max_length,\n",
    "                                   early_stopping=True,\n",
    "                                   pad_token_id=self.processor.tokenizer.pad_token_id,\n",
    "                                   eos_token_id=self.processor.tokenizer.eos_token_id,\n",
    "                                   use_cache=True,\n",
    "                                   num_beams=1,\n",
    "                                   bad_words_ids=[[self.processor.tokenizer.unk_token_id]],\n",
    "                                   return_dict_in_generate=True,)\n",
    "    \n",
    "        predictions = []\n",
    "        for seq in self.processor.tokenizer.batch_decode(outputs.sequences):\n",
    "            seq = seq.replace(self.processor.tokenizer.eos_token, \"\").replace(self.processor.tokenizer.pad_token, \"\")\n",
    "            seq = re.sub(r\"<.*?>\", \"\", seq, count=1).strip()  # remove first task start token\n",
    "            predictions.append(seq)\n",
    "\n",
    "        scores = []\n",
    "        for pred, answer in zip(predictions, answers):\n",
    "            pred = re.sub(r\"(?:(?<=>) | (?=</s_))\", \"\", pred)\n",
    "            # NOT NEEDED ANYMORE\n",
    "            # answer = re.sub(r\"<.*?>\", \"\", answer, count=1)\n",
    "            answer = answer.replace(self.processor.tokenizer.eos_token, \"\")\n",
    "            scores.append(edit_distance(pred, answer) / max(len(pred), len(answer)))\n",
    "\n",
    "            if self.config.get(\"verbose\", False) and len(scores) == 1:\n",
    "                #print(f\"Prediction: {pred}\")\n",
    "                #print(f\"    Answer: {answer}\")\n",
    "                print(f\" Normed ED: {scores[0]}\")\n",
    "\n",
    "        self.log(\"val_edit_distance\", np.mean(scores))\n",
    "        \n",
    "        return scores\n",
    "\n",
    "    def configure_optimizers(self):\n",
    "        # you could also add a learning rate scheduler if you want\n",
    "        optimizer = torch.optim.Adam(self.parameters(), lr=self.config.get(\"lr\"))\n",
    "    \n",
    "        return optimizer\n",
    "\n",
    "    def train_dataloader(self):\n",
    "        return train_dataloader\n",
    "\n",
    "    def val_dataloader(self):\n",
    "        return val_dataloader"
   ]
  },
  {
   "cell_type": "markdown",
   "id": "eed26062",
   "metadata": {},
   "source": [
    "## Train Model"
   ]
  },
  {
   "cell_type": "code",
   "execution_count": 29,
   "id": "9b58b4be",
   "metadata": {},
   "outputs": [],
   "source": [
    "epochs = 10\n",
    "config = {\"max_epochs\":epochs,\n",
    "          \"check_val_every_n_epoch\":1,\n",
    "          \"gradient_clip_val\":1.0,\n",
    "          \"num_training_samples_per_epoch\": 10389,\n",
    "          \"lr\":1e-5,\n",
    "          \"train_batch_sizes\": [32],\n",
    "          \"val_batch_sizes\": [1],\n",
    "          # \"seed\":2022,\n",
    "          \"num_nodes\": 1,\n",
    "          \"warmup_steps\": 225, # 800/8*30/10, 10%\n",
    "          \"result_path\": \"./result\",\n",
    "          \"verbose\": True,\n",
    "          }\n",
    "\n",
    "model_module = DonutModelPLModule(config, processor, model)"
   ]
  },
  {
   "cell_type": "code",
   "execution_count": 30,
   "id": "fe23dc89",
   "metadata": {
    "scrolled": true
   },
   "outputs": [
    {
     "name": "stdout",
     "output_type": "stream",
     "text": [
      "huggingface/tokenizers: The current process just got forked, after parallelism has already been used. Disabling parallelism to avoid deadlocks...\n",
      "To disable this warning, you can either:\n",
      "\t- Avoid using `tokenizers` before the fork if possible\n",
      "\t- Explicitly set the environment variable TOKENIZERS_PARALLELISM=(true | false)\n"
     ]
    },
    {
     "name": "stderr",
     "output_type": "stream",
     "text": [
      "\u001b[34m\u001b[1mwandb\u001b[0m: Currently logged in as: \u001b[33msebastian-strobel\u001b[0m. Use \u001b[1m`wandb login --relogin`\u001b[0m to force relogin\n"
     ]
    },
    {
     "name": "stdout",
     "output_type": "stream",
     "text": [
      "huggingface/tokenizers: The current process just got forked, after parallelism has already been used. Disabling parallelism to avoid deadlocks...\n",
      "To disable this warning, you can either:\n",
      "\t- Avoid using `tokenizers` before the fork if possible\n",
      "\t- Explicitly set the environment variable TOKENIZERS_PARALLELISM=(true | false)\n",
      "huggingface/tokenizers: The current process just got forked, after parallelism has already been used. Disabling parallelism to avoid deadlocks...\n",
      "To disable this warning, you can either:\n",
      "\t- Avoid using `tokenizers` before the fork if possible\n",
      "\t- Explicitly set the environment variable TOKENIZERS_PARALLELISM=(true | false)\n"
     ]
    },
    {
     "data": {
      "text/html": [
       "wandb version 0.15.12 is available!  To upgrade, please run:\n",
       " $ pip install wandb --upgrade"
      ],
      "text/plain": [
       "<IPython.core.display.HTML object>"
      ]
     },
     "metadata": {},
     "output_type": "display_data"
    },
    {
     "data": {
      "text/html": [
       "Tracking run with wandb version 0.15.9"
      ],
      "text/plain": [
       "<IPython.core.display.HTML object>"
      ]
     },
     "metadata": {},
     "output_type": "display_data"
    },
    {
     "data": {
      "text/html": [
       "Run data is saved locally in <code>./wandb/run-20231009_170952-lvnsyuge</code>"
      ],
      "text/plain": [
       "<IPython.core.display.HTML object>"
      ]
     },
     "metadata": {},
     "output_type": "display_data"
    },
    {
     "data": {
      "text/html": [
       "Syncing run <strong><a href='https://wandb.ai/sebastian-strobel/Donut/runs/lvnsyuge' target=\"_blank\">Docile10epochs_10389train_250val_3e-9lr</a></strong> to <a href='https://wandb.ai/sebastian-strobel/Donut' target=\"_blank\">Weights & Biases</a> (<a href='https://wandb.me/run' target=\"_blank\">docs</a>)<br/>"
      ],
      "text/plain": [
       "<IPython.core.display.HTML object>"
      ]
     },
     "metadata": {},
     "output_type": "display_data"
    },
    {
     "data": {
      "text/html": [
       " View project at <a href='https://wandb.ai/sebastian-strobel/Donut' target=\"_blank\">https://wandb.ai/sebastian-strobel/Donut</a>"
      ],
      "text/plain": [
       "<IPython.core.display.HTML object>"
      ]
     },
     "metadata": {},
     "output_type": "display_data"
    },
    {
     "data": {
      "text/html": [
       " View run at <a href='https://wandb.ai/sebastian-strobel/Donut/runs/lvnsyuge' target=\"_blank\">https://wandb.ai/sebastian-strobel/Donut/runs/lvnsyuge</a>"
      ],
      "text/plain": [
       "<IPython.core.display.HTML object>"
      ]
     },
     "metadata": {},
     "output_type": "display_data"
    },
    {
     "name": "stderr",
     "output_type": "stream",
     "text": [
      "/home/sebastian/anaconda3/envs/pt/lib/python3.9/site-packages/lightning_fabric/connector.py:554: UserWarning: 16 is supported for historical reasons but its usage is discouraged. Please set your precision to 16-mixed instead!\n",
      "  rank_zero_warn(\n",
      "Using 16bit Automatic Mixed Precision (AMP)\n",
      "GPU available: True (cuda), used: True\n",
      "TPU available: False, using: 0 TPU cores\n",
      "IPU available: False, using: 0 IPUs\n",
      "HPU available: False, using: 0 HPUs\n",
      "You are using a CUDA device ('NVIDIA GeForce RTX 3090') that has Tensor Cores. To properly utilize them, you should set `torch.set_float32_matmul_precision('medium' | 'high')` which will trade-off precision for performance. For more details, read https://pytorch.org/docs/stable/generated/torch.set_float32_matmul_precision.html#torch.set_float32_matmul_precision\n",
      "LOCAL_RANK: 0 - CUDA_VISIBLE_DEVICES: [0]\n",
      "\n",
      "  | Name  | Type                      | Params\n",
      "----------------------------------------------------\n",
      "0 | model | VisionEncoderDecoderModel | 201 M \n",
      "----------------------------------------------------\n",
      "201 M     Trainable params\n",
      "0         Non-trainable params\n",
      "201 M     Total params\n",
      "807.461   Total estimated model params size (MB)\n"
     ]
    },
    {
     "data": {
      "application/vnd.jupyter.widget-view+json": {
       "model_id": "e54ef8e73cbc4a689c336964c8ed2d35",
       "version_major": 2,
       "version_minor": 0
      },
      "text/plain": [
       "Training: 0it [00:00, ?it/s]"
      ]
     },
     "metadata": {},
     "output_type": "display_data"
    },
    {
     "name": "stdout",
     "output_type": "stream",
     "text": [
      "huggingface/tokenizers: The current process just got forked, after parallelism has already been used. Disabling parallelism to avoid deadlocks...\n",
      "To disable this warning, you can either:\n",
      "\t- Avoid using `tokenizers` before the fork if possible\n",
      "\t- Explicitly set the environment variable TOKENIZERS_PARALLELISM=(true | false)\n",
      "huggingface/tokenizers: The current process just got forked, after parallelism has already been used. Disabling parallelism to avoid deadlocks...\n",
      "To disable this warning, you can either:\n",
      "\t- Avoid using `tokenizers` before the fork if possible\n",
      "\t- Explicitly set the environment variable TOKENIZERS_PARALLELISM=(true | false)\n",
      "huggingface/tokenizers: The current process just got forked, after parallelism has already been used. Disabling parallelism to avoid deadlocks...\n",
      "To disable this warning, you can either:\n",
      "\t- Avoid using `tokenizers` before the fork if possible\n",
      "\t- Explicitly set the environment variable TOKENIZERS_PARALLELISM=(true | false)\n",
      "huggingface/tokenizers: The current process just got forked, after parallelism has already been used. Disabling parallelism to avoid deadlocks...\n",
      "To disable this warning, you can either:\n",
      "\t- Avoid using `tokenizers` before the fork if possible\n",
      "\t- Explicitly set the environment variable TOKENIZERS_PARALLELISM=(true | false)\n",
      "huggingface/tokenizers: The current process just got forked, after parallelism has already been used. Disabling parallelism to avoid deadlocks...\n",
      "To disable this warning, you can either:\n",
      "\t- Avoid using `tokenizers` before the fork if possible\n",
      "\t- Explicitly set the environment variable TOKENIZERS_PARALLELISM=(true | false)\n"
     ]
    },
    {
     "name": "stderr",
     "output_type": "stream",
     "text": [
      "/home/sebastian/anaconda3/envs/pt/lib/python3.9/site-packages/pytorch_lightning/trainer/call.py:53: UserWarning: Detected KeyboardInterrupt, attempting graceful shutdown...\n",
      "  rank_zero_warn(\"Detected KeyboardInterrupt, attempting graceful shutdown...\")\n"
     ]
    }
   ],
   "source": [
    "from pytorch_lightning.loggers import WandbLogger\n",
    "from pytorch_lightning.callbacks import Callback, EarlyStopping\n",
    "\n",
    "wandb_logger = WandbLogger(project=\"Donut\", name=\"Docile10epochs_10389train_250val_3e-9lr\")\n",
    "\n",
    "class PushToHubCallback(Callback):\n",
    "    def on_train_epoch_end(self, trainer, pl_module):\n",
    "        print(f\"Pushing model to the hub, epoch {trainer.current_epoch}\")\n",
    "        pl_module.model.push_to_hub(\"ZaNioxX/Donut_infoext_10_5_\" + str(trainer.current_epoch) + \"epochs_10389train_250val_3e-9lr\",\n",
    "                                    commit_message=f\"Training in progress, epoch {trainer.current_epoch}\")            \n",
    "\n",
    "    def on_train_end(self, trainer, pl_module):\n",
    "        print(f\"Pushing model to the hub after training\")\n",
    "        pl_module.processor.push_to_hub(\"ZaNioxX/Donut_infoext_10_5_10epochs_10389train_250val_3e-9lr\",\n",
    "                                    commit_message=f\"Training done\")\n",
    "        pl_module.model.push_to_hub(\"ZaNioxX/Donut_infoext_10_5_10epochs_10389train_250val_3e-9lr\",\n",
    "                                    commit_message=f\"Training done\")\n",
    "\n",
    "early_stop_callback = EarlyStopping(monitor=\"val_edit_distance\", patience=8, verbose=False, mode=\"min\")\n",
    "\n",
    "trainer = pl.Trainer(\n",
    "        accelerator=\"gpu\",\n",
    "        devices=1,\n",
    "        max_epochs=config.get(\"max_epochs\"),\n",
    "        check_val_every_n_epoch=config.get(\"check_val_every_n_epoch\"),\n",
    "        gradient_clip_val=config.get(\"gradient_clip_val\"),\n",
    "        precision=16, # we'll use mixed precision\n",
    "        num_sanity_val_steps=0,\n",
    "        logger=wandb_logger,\n",
    "        callbacks=[PushToHubCallback(), early_stop_callback],\n",
    ")\n",
    "\n",
    "trainer.fit(model_module)"
   ]
  },
  {
   "cell_type": "markdown",
   "id": "026be6ad",
   "metadata": {},
   "source": [
    "## evaluate model"
   ]
  },
  {
   "cell_type": "code",
   "execution_count": 19,
   "id": "b45c315f",
   "metadata": {
    "scrolled": true
   },
   "outputs": [
    {
     "data": {
      "application/vnd.jupyter.widget-view+json": {
       "model_id": "2a05ee250fd84a5ba98b4e8f0bf3af8e",
       "version_major": 2,
       "version_minor": 0
      },
      "text/plain": [
       "Resolving data files:   0%|          | 0/10390 [00:00<?, ?it/s]"
      ]
     },
     "metadata": {},
     "output_type": "display_data"
    },
    {
     "data": {
      "application/vnd.jupyter.widget-view+json": {
       "model_id": "e0e2b861a112465dbf5a429989fc9355",
       "version_major": 2,
       "version_minor": 0
      },
      "text/plain": [
       "Resolving data files:   0%|          | 0/251 [00:00<?, ?it/s]"
      ]
     },
     "metadata": {},
     "output_type": "display_data"
    },
    {
     "data": {
      "application/vnd.jupyter.widget-view+json": {
       "model_id": "b32df521361a47e286b60de57ddbcac3",
       "version_major": 2,
       "version_minor": 0
      },
      "text/plain": [
       "Resolving data files:   0%|          | 0/3755 [00:00<?, ?it/s]"
      ]
     },
     "metadata": {},
     "output_type": "display_data"
    },
    {
     "data": {
      "application/vnd.jupyter.widget-view+json": {
       "model_id": "135329c75360442cb3d243836d19fbd5",
       "version_major": 2,
       "version_minor": 0
      },
      "text/plain": [
       "Downloading data files:   0%|          | 0/10392 [00:00<?, ?it/s]"
      ]
     },
     "metadata": {},
     "output_type": "display_data"
    },
    {
     "data": {
      "application/vnd.jupyter.widget-view+json": {
       "model_id": "4a7b8afddfa14f1e97414975b9b71c5b",
       "version_major": 2,
       "version_minor": 0
      },
      "text/plain": [
       "Downloading data files: 0it [00:00, ?it/s]"
      ]
     },
     "metadata": {},
     "output_type": "display_data"
    },
    {
     "data": {
      "application/vnd.jupyter.widget-view+json": {
       "model_id": "f79170f01c314faab6efb2fa5b52fc51",
       "version_major": 2,
       "version_minor": 0
      },
      "text/plain": [
       "Extracting data files: 0it [00:00, ?it/s]"
      ]
     },
     "metadata": {},
     "output_type": "display_data"
    },
    {
     "data": {
      "application/vnd.jupyter.widget-view+json": {
       "model_id": "e518689f74334a3d9d818522eb247210",
       "version_major": 2,
       "version_minor": 0
      },
      "text/plain": [
       "Downloading data files:   0%|          | 0/253 [00:00<?, ?it/s]"
      ]
     },
     "metadata": {},
     "output_type": "display_data"
    },
    {
     "data": {
      "application/vnd.jupyter.widget-view+json": {
       "model_id": "95db3dda1ff9434d9238f7186f8ff9b8",
       "version_major": 2,
       "version_minor": 0
      },
      "text/plain": [
       "Downloading data files: 0it [00:00, ?it/s]"
      ]
     },
     "metadata": {},
     "output_type": "display_data"
    },
    {
     "data": {
      "application/vnd.jupyter.widget-view+json": {
       "model_id": "adb917777fb449e68ec156dca5a2f38e",
       "version_major": 2,
       "version_minor": 0
      },
      "text/plain": [
       "Extracting data files: 0it [00:00, ?it/s]"
      ]
     },
     "metadata": {},
     "output_type": "display_data"
    },
    {
     "data": {
      "application/vnd.jupyter.widget-view+json": {
       "model_id": "476339e5985b4b998e501d575e55f7b3",
       "version_major": 2,
       "version_minor": 0
      },
      "text/plain": [
       "Downloading data files:   0%|          | 0/3757 [00:00<?, ?it/s]"
      ]
     },
     "metadata": {},
     "output_type": "display_data"
    },
    {
     "data": {
      "application/vnd.jupyter.widget-view+json": {
       "model_id": "6451009b44554eb192f5da79242e42c9",
       "version_major": 2,
       "version_minor": 0
      },
      "text/plain": [
       "Downloading data files: 0it [00:00, ?it/s]"
      ]
     },
     "metadata": {},
     "output_type": "display_data"
    },
    {
     "data": {
      "application/vnd.jupyter.widget-view+json": {
       "model_id": "527b8e4539b44e2a88f1f2b8e2e87e93",
       "version_major": 2,
       "version_minor": 0
      },
      "text/plain": [
       "Extracting data files: 0it [00:00, ?it/s]"
      ]
     },
     "metadata": {},
     "output_type": "display_data"
    },
    {
     "data": {
      "application/vnd.jupyter.widget-view+json": {
       "model_id": "768bdc119a594c6b95a75841a442e31d",
       "version_major": 2,
       "version_minor": 0
      },
      "text/plain": [
       "Generating train split: 0 examples [00:00, ? examples/s]"
      ]
     },
     "metadata": {},
     "output_type": "display_data"
    },
    {
     "data": {
      "application/vnd.jupyter.widget-view+json": {
       "model_id": "e9c20791a8ca466093617108c1c1138c",
       "version_major": 2,
       "version_minor": 0
      },
      "text/plain": [
       "Generating validation split: 0 examples [00:00, ? examples/s]"
      ]
     },
     "metadata": {},
     "output_type": "display_data"
    },
    {
     "data": {
      "application/vnd.jupyter.widget-view+json": {
       "model_id": "fbcedcf5629a4a34bf4e950d982fed0a",
       "version_major": 2,
       "version_minor": 0
      },
      "text/plain": [
       "Generating test split: 0 examples [00:00, ? examples/s]"
      ]
     },
     "metadata": {},
     "output_type": "display_data"
    },
    {
     "data": {
      "application/vnd.jupyter.widget-view+json": {
       "model_id": "60cc198719364fa8b16ca09cb3373f9c",
       "version_major": 2,
       "version_minor": 0
      },
      "text/plain": [
       "  0%|          | 0/250 [00:00<?, ?it/s]"
      ]
     },
     "metadata": {},
     "output_type": "display_data"
    },
    {
     "name": "stderr",
     "output_type": "stream",
     "text": [
      "/home/sebastian/anaconda3/envs/pt/lib/python3.9/site-packages/transformers/generation/configuration_utils.py:399: UserWarning: `num_beams` is set to 1. However, `early_stopping` is set to `True` -- this flag is only used in beam-based generation modes. You should set `num_beams>1` or unset `early_stopping`.\n",
      "  warnings.warn(\n"
     ]
    },
    {
     "ename": "KeyboardInterrupt",
     "evalue": "",
     "output_type": "error",
     "traceback": [
      "\u001b[0;31m---------------------------------------------------------------------------\u001b[0m",
      "\u001b[0;31mKeyboardInterrupt\u001b[0m                         Traceback (most recent call last)",
      "Cell \u001b[0;32mIn[19], line 34\u001b[0m\n\u001b[1;32m     31\u001b[0m decoder_input_ids \u001b[38;5;241m=\u001b[39m decoder_input_ids\u001b[38;5;241m.\u001b[39mto(device)\n\u001b[1;32m     33\u001b[0m \u001b[38;5;66;03m# autoregressively generate sequence\u001b[39;00m\n\u001b[0;32m---> 34\u001b[0m outputs \u001b[38;5;241m=\u001b[39m \u001b[43mmodel\u001b[49m\u001b[38;5;241;43m.\u001b[39;49m\u001b[43mgenerate\u001b[49m\u001b[43m(\u001b[49m\n\u001b[1;32m     35\u001b[0m \u001b[43m        \u001b[49m\u001b[43mpixel_values\u001b[49m\u001b[43m,\u001b[49m\n\u001b[1;32m     36\u001b[0m \u001b[43m        \u001b[49m\u001b[43mdecoder_input_ids\u001b[49m\u001b[38;5;241;43m=\u001b[39;49m\u001b[43mdecoder_input_ids\u001b[49m\u001b[43m,\u001b[49m\n\u001b[1;32m     37\u001b[0m \u001b[43m        \u001b[49m\u001b[43mmax_length\u001b[49m\u001b[38;5;241;43m=\u001b[39;49m\u001b[43mmodel\u001b[49m\u001b[38;5;241;43m.\u001b[39;49m\u001b[43mdecoder\u001b[49m\u001b[38;5;241;43m.\u001b[39;49m\u001b[43mconfig\u001b[49m\u001b[38;5;241;43m.\u001b[39;49m\u001b[43mmax_position_embeddings\u001b[49m\u001b[43m,\u001b[49m\n\u001b[1;32m     38\u001b[0m \u001b[43m        \u001b[49m\u001b[43mearly_stopping\u001b[49m\u001b[38;5;241;43m=\u001b[39;49m\u001b[38;5;28;43;01mTrue\u001b[39;49;00m\u001b[43m,\u001b[49m\n\u001b[1;32m     39\u001b[0m \u001b[43m        \u001b[49m\u001b[43mpad_token_id\u001b[49m\u001b[38;5;241;43m=\u001b[39;49m\u001b[43mprocessor\u001b[49m\u001b[38;5;241;43m.\u001b[39;49m\u001b[43mtokenizer\u001b[49m\u001b[38;5;241;43m.\u001b[39;49m\u001b[43mpad_token_id\u001b[49m\u001b[43m,\u001b[49m\n\u001b[1;32m     40\u001b[0m \u001b[43m        \u001b[49m\u001b[43meos_token_id\u001b[49m\u001b[38;5;241;43m=\u001b[39;49m\u001b[43mprocessor\u001b[49m\u001b[38;5;241;43m.\u001b[39;49m\u001b[43mtokenizer\u001b[49m\u001b[38;5;241;43m.\u001b[39;49m\u001b[43meos_token_id\u001b[49m\u001b[43m,\u001b[49m\n\u001b[1;32m     41\u001b[0m \u001b[43m        \u001b[49m\u001b[43muse_cache\u001b[49m\u001b[38;5;241;43m=\u001b[39;49m\u001b[38;5;28;43;01mTrue\u001b[39;49;00m\u001b[43m,\u001b[49m\n\u001b[1;32m     42\u001b[0m \u001b[43m        \u001b[49m\u001b[43mnum_beams\u001b[49m\u001b[38;5;241;43m=\u001b[39;49m\u001b[38;5;241;43m1\u001b[39;49m\u001b[43m,\u001b[49m\n\u001b[1;32m     43\u001b[0m \u001b[43m        \u001b[49m\u001b[43mbad_words_ids\u001b[49m\u001b[38;5;241;43m=\u001b[39;49m\u001b[43m[\u001b[49m\u001b[43m[\u001b[49m\u001b[43mprocessor\u001b[49m\u001b[38;5;241;43m.\u001b[39;49m\u001b[43mtokenizer\u001b[49m\u001b[38;5;241;43m.\u001b[39;49m\u001b[43munk_token_id\u001b[49m\u001b[43m]\u001b[49m\u001b[43m]\u001b[49m\u001b[43m,\u001b[49m\n\u001b[1;32m     44\u001b[0m \u001b[43m        \u001b[49m\u001b[43mreturn_dict_in_generate\u001b[49m\u001b[38;5;241;43m=\u001b[39;49m\u001b[38;5;28;43;01mTrue\u001b[39;49;00m\u001b[43m,\u001b[49m\n\u001b[1;32m     45\u001b[0m \u001b[43m    \u001b[49m\u001b[43m)\u001b[49m\n\u001b[1;32m     47\u001b[0m \u001b[38;5;66;03m# turn into JSON\u001b[39;00m\n\u001b[1;32m     48\u001b[0m seq \u001b[38;5;241m=\u001b[39m processor\u001b[38;5;241m.\u001b[39mbatch_decode(outputs\u001b[38;5;241m.\u001b[39msequences)[\u001b[38;5;241m0\u001b[39m]\n",
      "File \u001b[0;32m~/anaconda3/envs/pt/lib/python3.9/site-packages/torch/utils/_contextlib.py:115\u001b[0m, in \u001b[0;36mcontext_decorator.<locals>.decorate_context\u001b[0;34m(*args, **kwargs)\u001b[0m\n\u001b[1;32m    112\u001b[0m \u001b[38;5;129m@functools\u001b[39m\u001b[38;5;241m.\u001b[39mwraps(func)\n\u001b[1;32m    113\u001b[0m \u001b[38;5;28;01mdef\u001b[39;00m \u001b[38;5;21mdecorate_context\u001b[39m(\u001b[38;5;241m*\u001b[39margs, \u001b[38;5;241m*\u001b[39m\u001b[38;5;241m*\u001b[39mkwargs):\n\u001b[1;32m    114\u001b[0m     \u001b[38;5;28;01mwith\u001b[39;00m ctx_factory():\n\u001b[0;32m--> 115\u001b[0m         \u001b[38;5;28;01mreturn\u001b[39;00m \u001b[43mfunc\u001b[49m\u001b[43m(\u001b[49m\u001b[38;5;241;43m*\u001b[39;49m\u001b[43margs\u001b[49m\u001b[43m,\u001b[49m\u001b[43m \u001b[49m\u001b[38;5;241;43m*\u001b[39;49m\u001b[38;5;241;43m*\u001b[39;49m\u001b[43mkwargs\u001b[49m\u001b[43m)\u001b[49m\n",
      "File \u001b[0;32m~/anaconda3/envs/pt/lib/python3.9/site-packages/transformers/generation/utils.py:1596\u001b[0m, in \u001b[0;36mGenerationMixin.generate\u001b[0;34m(self, inputs, generation_config, logits_processor, stopping_criteria, prefix_allowed_tokens_fn, synced_gpus, assistant_model, streamer, negative_prompt_ids, negative_prompt_attention_mask, **kwargs)\u001b[0m\n\u001b[1;32m   1579\u001b[0m     \u001b[38;5;28;01mreturn\u001b[39;00m \u001b[38;5;28mself\u001b[39m\u001b[38;5;241m.\u001b[39massisted_decoding(\n\u001b[1;32m   1580\u001b[0m         input_ids,\n\u001b[1;32m   1581\u001b[0m         assistant_model\u001b[38;5;241m=\u001b[39massistant_model,\n\u001b[0;32m   (...)\u001b[0m\n\u001b[1;32m   1592\u001b[0m         \u001b[38;5;241m*\u001b[39m\u001b[38;5;241m*\u001b[39mmodel_kwargs,\n\u001b[1;32m   1593\u001b[0m     )\n\u001b[1;32m   1594\u001b[0m \u001b[38;5;28;01mif\u001b[39;00m generation_mode \u001b[38;5;241m==\u001b[39m GenerationMode\u001b[38;5;241m.\u001b[39mGREEDY_SEARCH:\n\u001b[1;32m   1595\u001b[0m     \u001b[38;5;66;03m# 11. run greedy search\u001b[39;00m\n\u001b[0;32m-> 1596\u001b[0m     \u001b[38;5;28;01mreturn\u001b[39;00m \u001b[38;5;28;43mself\u001b[39;49m\u001b[38;5;241;43m.\u001b[39;49m\u001b[43mgreedy_search\u001b[49m\u001b[43m(\u001b[49m\n\u001b[1;32m   1597\u001b[0m \u001b[43m        \u001b[49m\u001b[43minput_ids\u001b[49m\u001b[43m,\u001b[49m\n\u001b[1;32m   1598\u001b[0m \u001b[43m        \u001b[49m\u001b[43mlogits_processor\u001b[49m\u001b[38;5;241;43m=\u001b[39;49m\u001b[43mlogits_processor\u001b[49m\u001b[43m,\u001b[49m\n\u001b[1;32m   1599\u001b[0m \u001b[43m        \u001b[49m\u001b[43mstopping_criteria\u001b[49m\u001b[38;5;241;43m=\u001b[39;49m\u001b[43mstopping_criteria\u001b[49m\u001b[43m,\u001b[49m\n\u001b[1;32m   1600\u001b[0m \u001b[43m        \u001b[49m\u001b[43mpad_token_id\u001b[49m\u001b[38;5;241;43m=\u001b[39;49m\u001b[43mgeneration_config\u001b[49m\u001b[38;5;241;43m.\u001b[39;49m\u001b[43mpad_token_id\u001b[49m\u001b[43m,\u001b[49m\n\u001b[1;32m   1601\u001b[0m \u001b[43m        \u001b[49m\u001b[43meos_token_id\u001b[49m\u001b[38;5;241;43m=\u001b[39;49m\u001b[43mgeneration_config\u001b[49m\u001b[38;5;241;43m.\u001b[39;49m\u001b[43meos_token_id\u001b[49m\u001b[43m,\u001b[49m\n\u001b[1;32m   1602\u001b[0m \u001b[43m        \u001b[49m\u001b[43moutput_scores\u001b[49m\u001b[38;5;241;43m=\u001b[39;49m\u001b[43mgeneration_config\u001b[49m\u001b[38;5;241;43m.\u001b[39;49m\u001b[43moutput_scores\u001b[49m\u001b[43m,\u001b[49m\n\u001b[1;32m   1603\u001b[0m \u001b[43m        \u001b[49m\u001b[43mreturn_dict_in_generate\u001b[49m\u001b[38;5;241;43m=\u001b[39;49m\u001b[43mgeneration_config\u001b[49m\u001b[38;5;241;43m.\u001b[39;49m\u001b[43mreturn_dict_in_generate\u001b[49m\u001b[43m,\u001b[49m\n\u001b[1;32m   1604\u001b[0m \u001b[43m        \u001b[49m\u001b[43msynced_gpus\u001b[49m\u001b[38;5;241;43m=\u001b[39;49m\u001b[43msynced_gpus\u001b[49m\u001b[43m,\u001b[49m\n\u001b[1;32m   1605\u001b[0m \u001b[43m        \u001b[49m\u001b[43mstreamer\u001b[49m\u001b[38;5;241;43m=\u001b[39;49m\u001b[43mstreamer\u001b[49m\u001b[43m,\u001b[49m\n\u001b[1;32m   1606\u001b[0m \u001b[43m        \u001b[49m\u001b[38;5;241;43m*\u001b[39;49m\u001b[38;5;241;43m*\u001b[39;49m\u001b[43mmodel_kwargs\u001b[49m\u001b[43m,\u001b[49m\n\u001b[1;32m   1607\u001b[0m \u001b[43m    \u001b[49m\u001b[43m)\u001b[49m\n\u001b[1;32m   1609\u001b[0m \u001b[38;5;28;01melif\u001b[39;00m generation_mode \u001b[38;5;241m==\u001b[39m GenerationMode\u001b[38;5;241m.\u001b[39mCONTRASTIVE_SEARCH:\n\u001b[1;32m   1610\u001b[0m     \u001b[38;5;28;01mif\u001b[39;00m \u001b[38;5;129;01mnot\u001b[39;00m model_kwargs[\u001b[38;5;124m\"\u001b[39m\u001b[38;5;124muse_cache\u001b[39m\u001b[38;5;124m\"\u001b[39m]:\n",
      "File \u001b[0;32m~/anaconda3/envs/pt/lib/python3.9/site-packages/transformers/generation/utils.py:2444\u001b[0m, in \u001b[0;36mGenerationMixin.greedy_search\u001b[0;34m(self, input_ids, logits_processor, stopping_criteria, max_length, pad_token_id, eos_token_id, output_attentions, output_hidden_states, output_scores, return_dict_in_generate, synced_gpus, streamer, **model_kwargs)\u001b[0m\n\u001b[1;32m   2441\u001b[0m model_inputs \u001b[38;5;241m=\u001b[39m \u001b[38;5;28mself\u001b[39m\u001b[38;5;241m.\u001b[39mprepare_inputs_for_generation(input_ids, \u001b[38;5;241m*\u001b[39m\u001b[38;5;241m*\u001b[39mmodel_kwargs)\n\u001b[1;32m   2443\u001b[0m \u001b[38;5;66;03m# forward pass to get next token\u001b[39;00m\n\u001b[0;32m-> 2444\u001b[0m outputs \u001b[38;5;241m=\u001b[39m \u001b[38;5;28;43mself\u001b[39;49m\u001b[43m(\u001b[49m\n\u001b[1;32m   2445\u001b[0m \u001b[43m    \u001b[49m\u001b[38;5;241;43m*\u001b[39;49m\u001b[38;5;241;43m*\u001b[39;49m\u001b[43mmodel_inputs\u001b[49m\u001b[43m,\u001b[49m\n\u001b[1;32m   2446\u001b[0m \u001b[43m    \u001b[49m\u001b[43mreturn_dict\u001b[49m\u001b[38;5;241;43m=\u001b[39;49m\u001b[38;5;28;43;01mTrue\u001b[39;49;00m\u001b[43m,\u001b[49m\n\u001b[1;32m   2447\u001b[0m \u001b[43m    \u001b[49m\u001b[43moutput_attentions\u001b[49m\u001b[38;5;241;43m=\u001b[39;49m\u001b[43moutput_attentions\u001b[49m\u001b[43m,\u001b[49m\n\u001b[1;32m   2448\u001b[0m \u001b[43m    \u001b[49m\u001b[43moutput_hidden_states\u001b[49m\u001b[38;5;241;43m=\u001b[39;49m\u001b[43moutput_hidden_states\u001b[49m\u001b[43m,\u001b[49m\n\u001b[1;32m   2449\u001b[0m \u001b[43m\u001b[49m\u001b[43m)\u001b[49m\n\u001b[1;32m   2451\u001b[0m \u001b[38;5;28;01mif\u001b[39;00m synced_gpus \u001b[38;5;129;01mand\u001b[39;00m this_peer_finished:\n\u001b[1;32m   2452\u001b[0m     \u001b[38;5;28;01mcontinue\u001b[39;00m  \u001b[38;5;66;03m# don't waste resources running the code we don't need\u001b[39;00m\n",
      "File \u001b[0;32m~/anaconda3/envs/pt/lib/python3.9/site-packages/torch/nn/modules/module.py:1501\u001b[0m, in \u001b[0;36mModule._call_impl\u001b[0;34m(self, *args, **kwargs)\u001b[0m\n\u001b[1;32m   1496\u001b[0m \u001b[38;5;66;03m# If we don't have any hooks, we want to skip the rest of the logic in\u001b[39;00m\n\u001b[1;32m   1497\u001b[0m \u001b[38;5;66;03m# this function, and just call forward.\u001b[39;00m\n\u001b[1;32m   1498\u001b[0m \u001b[38;5;28;01mif\u001b[39;00m \u001b[38;5;129;01mnot\u001b[39;00m (\u001b[38;5;28mself\u001b[39m\u001b[38;5;241m.\u001b[39m_backward_hooks \u001b[38;5;129;01mor\u001b[39;00m \u001b[38;5;28mself\u001b[39m\u001b[38;5;241m.\u001b[39m_backward_pre_hooks \u001b[38;5;129;01mor\u001b[39;00m \u001b[38;5;28mself\u001b[39m\u001b[38;5;241m.\u001b[39m_forward_hooks \u001b[38;5;129;01mor\u001b[39;00m \u001b[38;5;28mself\u001b[39m\u001b[38;5;241m.\u001b[39m_forward_pre_hooks\n\u001b[1;32m   1499\u001b[0m         \u001b[38;5;129;01mor\u001b[39;00m _global_backward_pre_hooks \u001b[38;5;129;01mor\u001b[39;00m _global_backward_hooks\n\u001b[1;32m   1500\u001b[0m         \u001b[38;5;129;01mor\u001b[39;00m _global_forward_hooks \u001b[38;5;129;01mor\u001b[39;00m _global_forward_pre_hooks):\n\u001b[0;32m-> 1501\u001b[0m     \u001b[38;5;28;01mreturn\u001b[39;00m \u001b[43mforward_call\u001b[49m\u001b[43m(\u001b[49m\u001b[38;5;241;43m*\u001b[39;49m\u001b[43margs\u001b[49m\u001b[43m,\u001b[49m\u001b[43m \u001b[49m\u001b[38;5;241;43m*\u001b[39;49m\u001b[38;5;241;43m*\u001b[39;49m\u001b[43mkwargs\u001b[49m\u001b[43m)\u001b[49m\n\u001b[1;32m   1502\u001b[0m \u001b[38;5;66;03m# Do not call functions when jit is used\u001b[39;00m\n\u001b[1;32m   1503\u001b[0m full_backward_hooks, non_full_backward_hooks \u001b[38;5;241m=\u001b[39m [], []\n",
      "File \u001b[0;32m~/anaconda3/envs/pt/lib/python3.9/site-packages/transformers/models/vision_encoder_decoder/modeling_vision_encoder_decoder.py:609\u001b[0m, in \u001b[0;36mVisionEncoderDecoderModel.forward\u001b[0;34m(self, pixel_values, decoder_input_ids, decoder_attention_mask, encoder_outputs, past_key_values, decoder_inputs_embeds, labels, use_cache, output_attentions, output_hidden_states, return_dict, **kwargs)\u001b[0m\n\u001b[1;32m    604\u001b[0m     decoder_input_ids \u001b[38;5;241m=\u001b[39m shift_tokens_right(\n\u001b[1;32m    605\u001b[0m         labels, \u001b[38;5;28mself\u001b[39m\u001b[38;5;241m.\u001b[39mconfig\u001b[38;5;241m.\u001b[39mpad_token_id, \u001b[38;5;28mself\u001b[39m\u001b[38;5;241m.\u001b[39mconfig\u001b[38;5;241m.\u001b[39mdecoder_start_token_id\n\u001b[1;32m    606\u001b[0m     )\n\u001b[1;32m    608\u001b[0m \u001b[38;5;66;03m# Decode\u001b[39;00m\n\u001b[0;32m--> 609\u001b[0m decoder_outputs \u001b[38;5;241m=\u001b[39m \u001b[38;5;28;43mself\u001b[39;49m\u001b[38;5;241;43m.\u001b[39;49m\u001b[43mdecoder\u001b[49m\u001b[43m(\u001b[49m\n\u001b[1;32m    610\u001b[0m \u001b[43m    \u001b[49m\u001b[43minput_ids\u001b[49m\u001b[38;5;241;43m=\u001b[39;49m\u001b[43mdecoder_input_ids\u001b[49m\u001b[43m,\u001b[49m\n\u001b[1;32m    611\u001b[0m \u001b[43m    \u001b[49m\u001b[43mattention_mask\u001b[49m\u001b[38;5;241;43m=\u001b[39;49m\u001b[43mdecoder_attention_mask\u001b[49m\u001b[43m,\u001b[49m\n\u001b[1;32m    612\u001b[0m \u001b[43m    \u001b[49m\u001b[43mencoder_hidden_states\u001b[49m\u001b[38;5;241;43m=\u001b[39;49m\u001b[43mencoder_hidden_states\u001b[49m\u001b[43m,\u001b[49m\n\u001b[1;32m    613\u001b[0m \u001b[43m    \u001b[49m\u001b[43mencoder_attention_mask\u001b[49m\u001b[38;5;241;43m=\u001b[39;49m\u001b[43mencoder_attention_mask\u001b[49m\u001b[43m,\u001b[49m\n\u001b[1;32m    614\u001b[0m \u001b[43m    \u001b[49m\u001b[43minputs_embeds\u001b[49m\u001b[38;5;241;43m=\u001b[39;49m\u001b[43mdecoder_inputs_embeds\u001b[49m\u001b[43m,\u001b[49m\n\u001b[1;32m    615\u001b[0m \u001b[43m    \u001b[49m\u001b[43moutput_attentions\u001b[49m\u001b[38;5;241;43m=\u001b[39;49m\u001b[43moutput_attentions\u001b[49m\u001b[43m,\u001b[49m\n\u001b[1;32m    616\u001b[0m \u001b[43m    \u001b[49m\u001b[43moutput_hidden_states\u001b[49m\u001b[38;5;241;43m=\u001b[39;49m\u001b[43moutput_hidden_states\u001b[49m\u001b[43m,\u001b[49m\n\u001b[1;32m    617\u001b[0m \u001b[43m    \u001b[49m\u001b[43muse_cache\u001b[49m\u001b[38;5;241;43m=\u001b[39;49m\u001b[43muse_cache\u001b[49m\u001b[43m,\u001b[49m\n\u001b[1;32m    618\u001b[0m \u001b[43m    \u001b[49m\u001b[43mpast_key_values\u001b[49m\u001b[38;5;241;43m=\u001b[39;49m\u001b[43mpast_key_values\u001b[49m\u001b[43m,\u001b[49m\n\u001b[1;32m    619\u001b[0m \u001b[43m    \u001b[49m\u001b[43mreturn_dict\u001b[49m\u001b[38;5;241;43m=\u001b[39;49m\u001b[43mreturn_dict\u001b[49m\u001b[43m,\u001b[49m\n\u001b[1;32m    620\u001b[0m \u001b[43m    \u001b[49m\u001b[38;5;241;43m*\u001b[39;49m\u001b[38;5;241;43m*\u001b[39;49m\u001b[43mkwargs_decoder\u001b[49m\u001b[43m,\u001b[49m\n\u001b[1;32m    621\u001b[0m \u001b[43m\u001b[49m\u001b[43m)\u001b[49m\n\u001b[1;32m    623\u001b[0m \u001b[38;5;66;03m# Compute loss independent from decoder (as some shift the logits inside them)\u001b[39;00m\n\u001b[1;32m    624\u001b[0m loss \u001b[38;5;241m=\u001b[39m \u001b[38;5;28;01mNone\u001b[39;00m\n",
      "File \u001b[0;32m~/anaconda3/envs/pt/lib/python3.9/site-packages/torch/nn/modules/module.py:1501\u001b[0m, in \u001b[0;36mModule._call_impl\u001b[0;34m(self, *args, **kwargs)\u001b[0m\n\u001b[1;32m   1496\u001b[0m \u001b[38;5;66;03m# If we don't have any hooks, we want to skip the rest of the logic in\u001b[39;00m\n\u001b[1;32m   1497\u001b[0m \u001b[38;5;66;03m# this function, and just call forward.\u001b[39;00m\n\u001b[1;32m   1498\u001b[0m \u001b[38;5;28;01mif\u001b[39;00m \u001b[38;5;129;01mnot\u001b[39;00m (\u001b[38;5;28mself\u001b[39m\u001b[38;5;241m.\u001b[39m_backward_hooks \u001b[38;5;129;01mor\u001b[39;00m \u001b[38;5;28mself\u001b[39m\u001b[38;5;241m.\u001b[39m_backward_pre_hooks \u001b[38;5;129;01mor\u001b[39;00m \u001b[38;5;28mself\u001b[39m\u001b[38;5;241m.\u001b[39m_forward_hooks \u001b[38;5;129;01mor\u001b[39;00m \u001b[38;5;28mself\u001b[39m\u001b[38;5;241m.\u001b[39m_forward_pre_hooks\n\u001b[1;32m   1499\u001b[0m         \u001b[38;5;129;01mor\u001b[39;00m _global_backward_pre_hooks \u001b[38;5;129;01mor\u001b[39;00m _global_backward_hooks\n\u001b[1;32m   1500\u001b[0m         \u001b[38;5;129;01mor\u001b[39;00m _global_forward_hooks \u001b[38;5;129;01mor\u001b[39;00m _global_forward_pre_hooks):\n\u001b[0;32m-> 1501\u001b[0m     \u001b[38;5;28;01mreturn\u001b[39;00m \u001b[43mforward_call\u001b[49m\u001b[43m(\u001b[49m\u001b[38;5;241;43m*\u001b[39;49m\u001b[43margs\u001b[49m\u001b[43m,\u001b[49m\u001b[43m \u001b[49m\u001b[38;5;241;43m*\u001b[39;49m\u001b[38;5;241;43m*\u001b[39;49m\u001b[43mkwargs\u001b[49m\u001b[43m)\u001b[49m\n\u001b[1;32m   1502\u001b[0m \u001b[38;5;66;03m# Do not call functions when jit is used\u001b[39;00m\n\u001b[1;32m   1503\u001b[0m full_backward_hooks, non_full_backward_hooks \u001b[38;5;241m=\u001b[39m [], []\n",
      "File \u001b[0;32m~/anaconda3/envs/pt/lib/python3.9/site-packages/transformers/models/mbart/modeling_mbart.py:1850\u001b[0m, in \u001b[0;36mMBartForCausalLM.forward\u001b[0;34m(self, input_ids, attention_mask, encoder_hidden_states, encoder_attention_mask, head_mask, cross_attn_head_mask, past_key_values, inputs_embeds, labels, use_cache, output_attentions, output_hidden_states, return_dict)\u001b[0m\n\u001b[1;32m   1847\u001b[0m return_dict \u001b[38;5;241m=\u001b[39m return_dict \u001b[38;5;28;01mif\u001b[39;00m return_dict \u001b[38;5;129;01mis\u001b[39;00m \u001b[38;5;129;01mnot\u001b[39;00m \u001b[38;5;28;01mNone\u001b[39;00m \u001b[38;5;28;01melse\u001b[39;00m \u001b[38;5;28mself\u001b[39m\u001b[38;5;241m.\u001b[39mconfig\u001b[38;5;241m.\u001b[39muse_return_dict\n\u001b[1;32m   1849\u001b[0m \u001b[38;5;66;03m# decoder outputs consists of (dec_features, layer_state, dec_hidden, dec_attn)\u001b[39;00m\n\u001b[0;32m-> 1850\u001b[0m outputs \u001b[38;5;241m=\u001b[39m \u001b[38;5;28;43mself\u001b[39;49m\u001b[38;5;241;43m.\u001b[39;49m\u001b[43mmodel\u001b[49m\u001b[38;5;241;43m.\u001b[39;49m\u001b[43mdecoder\u001b[49m\u001b[43m(\u001b[49m\n\u001b[1;32m   1851\u001b[0m \u001b[43m    \u001b[49m\u001b[43minput_ids\u001b[49m\u001b[38;5;241;43m=\u001b[39;49m\u001b[43minput_ids\u001b[49m\u001b[43m,\u001b[49m\n\u001b[1;32m   1852\u001b[0m \u001b[43m    \u001b[49m\u001b[43mattention_mask\u001b[49m\u001b[38;5;241;43m=\u001b[39;49m\u001b[43mattention_mask\u001b[49m\u001b[43m,\u001b[49m\n\u001b[1;32m   1853\u001b[0m \u001b[43m    \u001b[49m\u001b[43mencoder_hidden_states\u001b[49m\u001b[38;5;241;43m=\u001b[39;49m\u001b[43mencoder_hidden_states\u001b[49m\u001b[43m,\u001b[49m\n\u001b[1;32m   1854\u001b[0m \u001b[43m    \u001b[49m\u001b[43mencoder_attention_mask\u001b[49m\u001b[38;5;241;43m=\u001b[39;49m\u001b[43mencoder_attention_mask\u001b[49m\u001b[43m,\u001b[49m\n\u001b[1;32m   1855\u001b[0m \u001b[43m    \u001b[49m\u001b[43mhead_mask\u001b[49m\u001b[38;5;241;43m=\u001b[39;49m\u001b[43mhead_mask\u001b[49m\u001b[43m,\u001b[49m\n\u001b[1;32m   1856\u001b[0m \u001b[43m    \u001b[49m\u001b[43mcross_attn_head_mask\u001b[49m\u001b[38;5;241;43m=\u001b[39;49m\u001b[43mcross_attn_head_mask\u001b[49m\u001b[43m,\u001b[49m\n\u001b[1;32m   1857\u001b[0m \u001b[43m    \u001b[49m\u001b[43mpast_key_values\u001b[49m\u001b[38;5;241;43m=\u001b[39;49m\u001b[43mpast_key_values\u001b[49m\u001b[43m,\u001b[49m\n\u001b[1;32m   1858\u001b[0m \u001b[43m    \u001b[49m\u001b[43minputs_embeds\u001b[49m\u001b[38;5;241;43m=\u001b[39;49m\u001b[43minputs_embeds\u001b[49m\u001b[43m,\u001b[49m\n\u001b[1;32m   1859\u001b[0m \u001b[43m    \u001b[49m\u001b[43muse_cache\u001b[49m\u001b[38;5;241;43m=\u001b[39;49m\u001b[43muse_cache\u001b[49m\u001b[43m,\u001b[49m\n\u001b[1;32m   1860\u001b[0m \u001b[43m    \u001b[49m\u001b[43moutput_attentions\u001b[49m\u001b[38;5;241;43m=\u001b[39;49m\u001b[43moutput_attentions\u001b[49m\u001b[43m,\u001b[49m\n\u001b[1;32m   1861\u001b[0m \u001b[43m    \u001b[49m\u001b[43moutput_hidden_states\u001b[49m\u001b[38;5;241;43m=\u001b[39;49m\u001b[43moutput_hidden_states\u001b[49m\u001b[43m,\u001b[49m\n\u001b[1;32m   1862\u001b[0m \u001b[43m    \u001b[49m\u001b[43mreturn_dict\u001b[49m\u001b[38;5;241;43m=\u001b[39;49m\u001b[43mreturn_dict\u001b[49m\u001b[43m,\u001b[49m\n\u001b[1;32m   1863\u001b[0m \u001b[43m\u001b[49m\u001b[43m)\u001b[49m\n\u001b[1;32m   1865\u001b[0m logits \u001b[38;5;241m=\u001b[39m \u001b[38;5;28mself\u001b[39m\u001b[38;5;241m.\u001b[39mlm_head(outputs[\u001b[38;5;241m0\u001b[39m])\n\u001b[1;32m   1867\u001b[0m loss \u001b[38;5;241m=\u001b[39m \u001b[38;5;28;01mNone\u001b[39;00m\n",
      "File \u001b[0;32m~/anaconda3/envs/pt/lib/python3.9/site-packages/torch/nn/modules/module.py:1501\u001b[0m, in \u001b[0;36mModule._call_impl\u001b[0;34m(self, *args, **kwargs)\u001b[0m\n\u001b[1;32m   1496\u001b[0m \u001b[38;5;66;03m# If we don't have any hooks, we want to skip the rest of the logic in\u001b[39;00m\n\u001b[1;32m   1497\u001b[0m \u001b[38;5;66;03m# this function, and just call forward.\u001b[39;00m\n\u001b[1;32m   1498\u001b[0m \u001b[38;5;28;01mif\u001b[39;00m \u001b[38;5;129;01mnot\u001b[39;00m (\u001b[38;5;28mself\u001b[39m\u001b[38;5;241m.\u001b[39m_backward_hooks \u001b[38;5;129;01mor\u001b[39;00m \u001b[38;5;28mself\u001b[39m\u001b[38;5;241m.\u001b[39m_backward_pre_hooks \u001b[38;5;129;01mor\u001b[39;00m \u001b[38;5;28mself\u001b[39m\u001b[38;5;241m.\u001b[39m_forward_hooks \u001b[38;5;129;01mor\u001b[39;00m \u001b[38;5;28mself\u001b[39m\u001b[38;5;241m.\u001b[39m_forward_pre_hooks\n\u001b[1;32m   1499\u001b[0m         \u001b[38;5;129;01mor\u001b[39;00m _global_backward_pre_hooks \u001b[38;5;129;01mor\u001b[39;00m _global_backward_hooks\n\u001b[1;32m   1500\u001b[0m         \u001b[38;5;129;01mor\u001b[39;00m _global_forward_hooks \u001b[38;5;129;01mor\u001b[39;00m _global_forward_pre_hooks):\n\u001b[0;32m-> 1501\u001b[0m     \u001b[38;5;28;01mreturn\u001b[39;00m \u001b[43mforward_call\u001b[49m\u001b[43m(\u001b[49m\u001b[38;5;241;43m*\u001b[39;49m\u001b[43margs\u001b[49m\u001b[43m,\u001b[49m\u001b[43m \u001b[49m\u001b[38;5;241;43m*\u001b[39;49m\u001b[38;5;241;43m*\u001b[39;49m\u001b[43mkwargs\u001b[49m\u001b[43m)\u001b[49m\n\u001b[1;32m   1502\u001b[0m \u001b[38;5;66;03m# Do not call functions when jit is used\u001b[39;00m\n\u001b[1;32m   1503\u001b[0m full_backward_hooks, non_full_backward_hooks \u001b[38;5;241m=\u001b[39m [], []\n",
      "File \u001b[0;32m~/anaconda3/envs/pt/lib/python3.9/site-packages/transformers/models/mbart/modeling_mbart.py:1039\u001b[0m, in \u001b[0;36mMBartDecoder.forward\u001b[0;34m(self, input_ids, attention_mask, encoder_hidden_states, encoder_attention_mask, head_mask, cross_attn_head_mask, past_key_values, inputs_embeds, use_cache, output_attentions, output_hidden_states, return_dict)\u001b[0m\n\u001b[1;32m   1036\u001b[0m \u001b[38;5;28;01mif\u001b[39;00m inputs_embeds \u001b[38;5;129;01mis\u001b[39;00m \u001b[38;5;28;01mNone\u001b[39;00m:\n\u001b[1;32m   1037\u001b[0m     inputs_embeds \u001b[38;5;241m=\u001b[39m \u001b[38;5;28mself\u001b[39m\u001b[38;5;241m.\u001b[39membed_tokens(input_ids) \u001b[38;5;241m*\u001b[39m \u001b[38;5;28mself\u001b[39m\u001b[38;5;241m.\u001b[39membed_scale\n\u001b[0;32m-> 1039\u001b[0m attention_mask \u001b[38;5;241m=\u001b[39m \u001b[38;5;28;43mself\u001b[39;49m\u001b[38;5;241;43m.\u001b[39;49m\u001b[43m_prepare_decoder_attention_mask\u001b[49m\u001b[43m(\u001b[49m\n\u001b[1;32m   1040\u001b[0m \u001b[43m    \u001b[49m\u001b[43mattention_mask\u001b[49m\u001b[43m,\u001b[49m\u001b[43m \u001b[49m\u001b[43minput_shape\u001b[49m\u001b[43m,\u001b[49m\u001b[43m \u001b[49m\u001b[43minputs_embeds\u001b[49m\u001b[43m,\u001b[49m\u001b[43m \u001b[49m\u001b[43mpast_key_values_length\u001b[49m\n\u001b[1;32m   1041\u001b[0m \u001b[43m\u001b[49m\u001b[43m)\u001b[49m\n\u001b[1;32m   1043\u001b[0m \u001b[38;5;66;03m# expand encoder attention mask\u001b[39;00m\n\u001b[1;32m   1044\u001b[0m \u001b[38;5;28;01mif\u001b[39;00m encoder_hidden_states \u001b[38;5;129;01mis\u001b[39;00m \u001b[38;5;129;01mnot\u001b[39;00m \u001b[38;5;28;01mNone\u001b[39;00m \u001b[38;5;129;01mand\u001b[39;00m encoder_attention_mask \u001b[38;5;129;01mis\u001b[39;00m \u001b[38;5;129;01mnot\u001b[39;00m \u001b[38;5;28;01mNone\u001b[39;00m:\n\u001b[1;32m   1045\u001b[0m     \u001b[38;5;66;03m# [bsz, seq_len] -> [bsz, 1, tgt_seq_len, src_seq_len]\u001b[39;00m\n",
      "File \u001b[0;32m~/anaconda3/envs/pt/lib/python3.9/site-packages/transformers/models/mbart/modeling_mbart.py:924\u001b[0m, in \u001b[0;36mMBartDecoder._prepare_decoder_attention_mask\u001b[0;34m(self, attention_mask, input_shape, inputs_embeds, past_key_values_length)\u001b[0m\n\u001b[1;32m    915\u001b[0m     combined_attention_mask \u001b[38;5;241m=\u001b[39m _make_causal_mask(\n\u001b[1;32m    916\u001b[0m         input_shape,\n\u001b[1;32m    917\u001b[0m         inputs_embeds\u001b[38;5;241m.\u001b[39mdtype,\n\u001b[1;32m    918\u001b[0m         device\u001b[38;5;241m=\u001b[39minputs_embeds\u001b[38;5;241m.\u001b[39mdevice,\n\u001b[1;32m    919\u001b[0m         past_key_values_length\u001b[38;5;241m=\u001b[39mpast_key_values_length,\n\u001b[1;32m    920\u001b[0m     )\n\u001b[1;32m    922\u001b[0m \u001b[38;5;28;01mif\u001b[39;00m attention_mask \u001b[38;5;129;01mis\u001b[39;00m \u001b[38;5;129;01mnot\u001b[39;00m \u001b[38;5;28;01mNone\u001b[39;00m:\n\u001b[1;32m    923\u001b[0m     \u001b[38;5;66;03m# [bsz, seq_len] -> [bsz, 1, tgt_seq_len, src_seq_len]\u001b[39;00m\n\u001b[0;32m--> 924\u001b[0m     expanded_attn_mask \u001b[38;5;241m=\u001b[39m \u001b[43m_expand_mask\u001b[49m\u001b[43m(\u001b[49m\u001b[43mattention_mask\u001b[49m\u001b[43m,\u001b[49m\u001b[43m \u001b[49m\u001b[43minputs_embeds\u001b[49m\u001b[38;5;241;43m.\u001b[39;49m\u001b[43mdtype\u001b[49m\u001b[43m,\u001b[49m\u001b[43m \u001b[49m\u001b[43mtgt_len\u001b[49m\u001b[38;5;241;43m=\u001b[39;49m\u001b[43minput_shape\u001b[49m\u001b[43m[\u001b[49m\u001b[38;5;241;43m-\u001b[39;49m\u001b[38;5;241;43m1\u001b[39;49m\u001b[43m]\u001b[49m\u001b[43m)\u001b[49m\u001b[38;5;241m.\u001b[39mto(\n\u001b[1;32m    925\u001b[0m         inputs_embeds\u001b[38;5;241m.\u001b[39mdevice\n\u001b[1;32m    926\u001b[0m     )\n\u001b[1;32m    927\u001b[0m     combined_attention_mask \u001b[38;5;241m=\u001b[39m (\n\u001b[1;32m    928\u001b[0m         expanded_attn_mask \u001b[38;5;28;01mif\u001b[39;00m combined_attention_mask \u001b[38;5;129;01mis\u001b[39;00m \u001b[38;5;28;01mNone\u001b[39;00m \u001b[38;5;28;01melse\u001b[39;00m expanded_attn_mask \u001b[38;5;241m+\u001b[39m combined_attention_mask\n\u001b[1;32m    929\u001b[0m     )\n\u001b[1;32m    931\u001b[0m \u001b[38;5;28;01mreturn\u001b[39;00m combined_attention_mask\n",
      "File \u001b[0;32m~/anaconda3/envs/pt/lib/python3.9/site-packages/transformers/models/mbart/modeling_mbart.py:109\u001b[0m, in \u001b[0;36m_expand_mask\u001b[0;34m(mask, dtype, tgt_len)\u001b[0m\n\u001b[1;32m    105\u001b[0m tgt_len \u001b[38;5;241m=\u001b[39m tgt_len \u001b[38;5;28;01mif\u001b[39;00m tgt_len \u001b[38;5;129;01mis\u001b[39;00m \u001b[38;5;129;01mnot\u001b[39;00m \u001b[38;5;28;01mNone\u001b[39;00m \u001b[38;5;28;01melse\u001b[39;00m src_len\n\u001b[1;32m    107\u001b[0m expanded_mask \u001b[38;5;241m=\u001b[39m mask[:, \u001b[38;5;28;01mNone\u001b[39;00m, \u001b[38;5;28;01mNone\u001b[39;00m, :]\u001b[38;5;241m.\u001b[39mexpand(bsz, \u001b[38;5;241m1\u001b[39m, tgt_len, src_len)\u001b[38;5;241m.\u001b[39mto(dtype)\n\u001b[0;32m--> 109\u001b[0m inverted_mask \u001b[38;5;241m=\u001b[39m \u001b[38;5;241;43m1.0\u001b[39;49m\u001b[43m \u001b[49m\u001b[38;5;241;43m-\u001b[39;49m\u001b[43m \u001b[49m\u001b[43mexpanded_mask\u001b[49m\n\u001b[1;32m    111\u001b[0m \u001b[38;5;28;01mreturn\u001b[39;00m inverted_mask\u001b[38;5;241m.\u001b[39mmasked_fill(inverted_mask\u001b[38;5;241m.\u001b[39mto(torch\u001b[38;5;241m.\u001b[39mbool), torch\u001b[38;5;241m.\u001b[39mfinfo(dtype)\u001b[38;5;241m.\u001b[39mmin)\n",
      "File \u001b[0;32m~/anaconda3/envs/pt/lib/python3.9/site-packages/torch/_tensor.py:40\u001b[0m, in \u001b[0;36m_handle_torch_function_and_wrap_type_error_to_not_implemented.<locals>.wrapped\u001b[0;34m(*args, **kwargs)\u001b[0m\n\u001b[1;32m     38\u001b[0m     \u001b[38;5;28;01mif\u001b[39;00m has_torch_function(args):\n\u001b[1;32m     39\u001b[0m         \u001b[38;5;28;01mreturn\u001b[39;00m handle_torch_function(wrapped, args, \u001b[38;5;241m*\u001b[39margs, \u001b[38;5;241m*\u001b[39m\u001b[38;5;241m*\u001b[39mkwargs)\n\u001b[0;32m---> 40\u001b[0m     \u001b[38;5;28;01mreturn\u001b[39;00m \u001b[43mf\u001b[49m(\u001b[38;5;241m*\u001b[39margs, \u001b[38;5;241m*\u001b[39m\u001b[38;5;241m*\u001b[39mkwargs)\n\u001b[1;32m     41\u001b[0m \u001b[38;5;28;01mexcept\u001b[39;00m \u001b[38;5;167;01mTypeError\u001b[39;00m:\n\u001b[1;32m     42\u001b[0m     \u001b[38;5;28;01mreturn\u001b[39;00m \u001b[38;5;28mNotImplemented\u001b[39m\n",
      "\u001b[0;31mKeyboardInterrupt\u001b[0m: "
     ]
    }
   ],
   "source": [
    "import re\n",
    "import json\n",
    "import torch\n",
    "from tqdm.auto import tqdm\n",
    "import numpy as np\n",
    "epochs = 10\n",
    "\n",
    "from donut import JSONParseEvaluator\n",
    "\n",
    "from datasets import load_dataset\n",
    "\n",
    "device = \"cuda\" if torch.cuda.is_available() else \"cpu\"\n",
    "\n",
    "model = VisionEncoderDecoderModel.from_pretrained(\"ZaNioxX/Donut_infoext_10_5_7epochs_10389train_random\")\n",
    "\n",
    "model.eval()\n",
    "model.to(device)\n",
    "\n",
    "output_list = []\n",
    "accs = []\n",
    "\n",
    "dataset = load_dataset(\"/home/sebastian/Documents/Hauptprojekt/Daten_Donut_random\", split=\"validation\")\n",
    "\n",
    "for idx, sample in tqdm(enumerate(dataset), total=len(dataset)):\n",
    "    # prepare encoder inputs\n",
    "    pixel_values = processor(sample[\"image\"].convert(\"RGB\"), return_tensors=\"pt\").pixel_values\n",
    "    pixel_values = pixel_values.to(device)\n",
    "    # prepare decoder inputs\n",
    "    task_prompt = \"<s_docile>\"\n",
    "    decoder_input_ids = processor.tokenizer(task_prompt, add_special_tokens=False, return_tensors=\"pt\").input_ids\n",
    "    decoder_input_ids = decoder_input_ids.to(device)\n",
    "    \n",
    "    # autoregressively generate sequence\n",
    "    outputs = model.generate(\n",
    "            pixel_values,\n",
    "            decoder_input_ids=decoder_input_ids,\n",
    "            max_length=model.decoder.config.max_position_embeddings,\n",
    "            early_stopping=True,\n",
    "            pad_token_id=processor.tokenizer.pad_token_id,\n",
    "            eos_token_id=processor.tokenizer.eos_token_id,\n",
    "            use_cache=True,\n",
    "            num_beams=1,\n",
    "            bad_words_ids=[[processor.tokenizer.unk_token_id]],\n",
    "            return_dict_in_generate=True,\n",
    "        )\n",
    "\n",
    "    # turn into JSON\n",
    "    seq = processor.batch_decode(outputs.sequences)[0]\n",
    "    seq = seq.replace(processor.tokenizer.eos_token, \"\").replace(processor.tokenizer.pad_token, \"\")\n",
    "    seq = re.sub(r\"<.*?>\", \"\", seq, count=1).strip()  # remove first task start token\n",
    "    seq = processor.token2json(seq)\n",
    "\n",
    "    ground_truth = json.loads(sample[\"ground_truth\"])\n",
    "    ground_truth = ground_truth[\"gt_parse\"]\n",
    "    evaluator = JSONParseEvaluator()\n",
    "    score = evaluator.cal_acc(seq, ground_truth)\n",
    "\n",
    "    accs.append(score)\n",
    "    output_list.append(seq)\n",
    "\n",
    "scores = {\"accuracies\": accs, \"mean_accuracy\": np.mean(accs)}\n",
    "print(scores, f\"length : {len(accs)}\")"
   ]
  },
  {
   "cell_type": "code",
   "execution_count": 59,
   "id": "1f696ce5",
   "metadata": {},
   "outputs": [],
   "source": [
    "np.save(\"/home/sebastian/Documents/Hauptprojekt/Arrays/DonutInfoExtraction/\" + str(epochs) + \"epochs_accuracies_10389train_3754test_250val_3e-9lr\", accs)"
   ]
  },
  {
   "cell_type": "code",
   "execution_count": 60,
   "id": "6572f567",
   "metadata": {},
   "outputs": [
    {
     "data": {
      "image/png": "[encoded data removed]",
      "text/plain": [
       "<Figure size 1000x600 with 1 Axes>"
      ]
     },
     "metadata": {},
     "output_type": "display_data"
    }
   ],
   "source": [
    "import numpy as np\n",
    "import matplotlib.pyplot as plt\n",
    "from collections import defaultdict\n",
    "import pickle\n",
    "\n",
    "file_path = \"/home/sebastian/Documents/Hauptprojekt/Arrays/DonutInfoExtraction/model_accuracies_after.pkl\"\n",
    "with open(file_path, 'rb') as file:\n",
    "    model_accuracies = pickle.load(file)\n",
    "\n",
    "file_path = \"/home/sebastian/Documents/Hauptprojekt/Arrays/DonutInfoExtraction/model_accuracies_before.pkl\"\n",
    "with open(file_path, 'wb') as file:\n",
    "    pickle.dump(model_accuracies, file)\n",
    "\n",
    "\n",
    "# Define your predictions and true_labels arrays (assuming they are NumPy arrays)\n",
    "predictions = np.load(\"/home/sebastian/Documents/Hauptprojekt/Arrays/DonutInfoExtraction/\" + str(epochs) + \"epochs_accuracies_10389train_3754test_250val_3e-9lr.npy\")\n",
    "true_labels = np.load(\"/home/sebastian/Documents/Hauptprojekt/Arrays/DonutInfoExtraction/vallabels.npy\")\n",
    "\n",
    "# Create a dictionary to store the mean accuracy and count for each class\n",
    "class_accuracy = defaultdict(lambda: {'accuracy': 0, 'count': 0})\n",
    "\n",
    "# Calculate accuracy for each class and count occurrences\n",
    "for class_name in np.unique(true_labels):\n",
    "    indices = np.where(true_labels == class_name)\n",
    "    class_predictions = predictions[indices]\n",
    "    accuracy = np.mean(class_predictions)\n",
    "    count = len(class_predictions)\n",
    "    class_accuracy[class_name]['accuracy'] = accuracy\n",
    "    class_accuracy[class_name]['count'] = count\n",
    "\n",
    "# Calculate the total accuracy by averaging all class accuracies\n",
    "total_accuracy = np.mean([v['accuracy'] for v in class_accuracy.values()])\n",
    "model_name = str(epochs) + \"epochs_accuracies_10389train_3754test_250val_3e-9lr\"\n",
    "model_accuracies[model_name] = total_accuracy\n",
    "\n",
    "\n",
    "# Create a bar plot\n",
    "plt.figure(figsize=(10, 6))\n",
    "bars = plt.bar(class_accuracy.keys(), [v['accuracy'] for v in class_accuracy.values()], color='red')\n",
    "plt.axhline(total_accuracy, color='blue', linestyle='--', label=f'Total Accuracy: {total_accuracy:.2%}')\n",
    "plt.title('Mean Accuracy for Each Class')\n",
    "plt.xlabel('Class')\n",
    "plt.ylabel('Mean Accuracy')\n",
    "plt.xticks(rotation=45)  # Rotate x-axis labels for better readability\n",
    "\n",
    "# Add percentage labels to the bars\n",
    "for bar in bars:\n",
    "    height = bar.get_height()\n",
    "    plt.text(bar.get_x() + bar.get_width() / 2, height, f'{height:.2%}', ha='center', va='bottom')\n",
    "\n",
    "# Display the plot\n",
    "plt.legend()\n",
    "plt.tight_layout()\n",
    "plt.savefig('/home/sebastian/Documents/Hauptprojekt/Plots/InformationExtraction/' + str(epochs) + 'epochs_accuracies_10389train_3754test_250val_3e-9lr.png', bbox_inches='tight')\n",
    "\n",
    "plt.show()\n"
   ]
  },
  {
   "cell_type": "code",
   "execution_count": 61,
   "id": "3da78d3a",
   "metadata": {},
   "outputs": [
    {
     "name": "stdout",
     "output_type": "stream",
     "text": [
      "Model accuracy dictionary saved to /home/sebastian/Documents/Hauptprojekt/Arrays/DonutInfoExtraction/model_accuracies_after.pkl\n"
     ]
    }
   ],
   "source": [
    "file_path = \"/home/sebastian/Documents/Hauptprojekt/Arrays/DonutInfoExtraction/model_accuracies_after.pkl\"\n",
    "with open(file_path, 'wb') as file:\n",
    "    pickle.dump(model_accuracies, file)\n",
    "\n",
    "print(f\"Model accuracy dictionary saved to {file_path}\")"
   ]
  },
  {
   "cell_type": "code",
   "execution_count": 7,
   "id": "faad3816",
   "metadata": {},
   "outputs": [
    {
     "data": {
      "image/png": "[encoded data removed]",
      "text/plain": [
       "<Figure size 1000x600 with 1 Axes>"
      ]
     },
     "metadata": {},
     "output_type": "display_data"
    }
   ],
   "source": [
    "import matplotlib.pyplot as plt\n",
    "import pickle\n",
    "\n",
    "file_path = \"/home/sebastian/Documents/Hauptprojekt/Arrays/DonutInfoExtraction/model_accuracies_after.pkl\"\n",
    "with open(file_path, 'rb') as file:\n",
    "    data = pickle.load(file)\n",
    "\n",
    "data = dict(sorted(data.items(), key=lambda item: item[1]))\n",
    "\n",
    "\n",
    "# Extract the keys (descriptions) and values (accuracy scores) from the dictionary\n",
    "descriptions = list(data.keys())\n",
    "accuracies = list(data.values())\n",
    "\n",
    "# Create a bar plot\n",
    "plt.figure(figsize=(10, 6))  # Adjust the figure size if needed\n",
    "bars = plt.bar(descriptions, accuracies, color='red')\n",
    "plt.xlabel('Descriptions')\n",
    "plt.ylabel('Accuracy')\n",
    "plt.title('Accuracy Scores')\n",
    "plt.xticks(rotation=45, ha='right')  # Rotate x-axis labels for better readability\n",
    "\n",
    "plt.ylim(0, 1.1)\n",
    "\n",
    "# Add accuracy values as text labels above the bars\n",
    "for bar, accuracy in zip(bars, accuracies):\n",
    "    plt.text(bar.get_x() + bar.get_width() / 2, bar.get_height(), f'{accuracy:.2%}', ha='center', va='bottom')\n",
    "\n",
    "# Show the plot\n",
    "plt.tight_layout()\n",
    "plt.savefig('/home/sebastian/Documents/Hauptprojekt/Plots/InformationExtraction/DonutModelAccuracies.png', bbox_inches='tight')\n",
    "\n",
    "plt.show()\n"
   ]
  },
  {
   "cell_type": "code",
   "execution_count": 1,
   "id": "d3d13d6e",
   "metadata": {},
   "outputs": [],
   "source": [
    "import pickle\n",
    "\n",
    "file_path = \"/home/sebastian/Documents/Hauptprojekt/Arrays/DonutInfoExtraction/model_accuracies_after.pkl\"\n",
    "with open(file_path, 'rb') as file:\n",
    "    model_accuracies = pickle.load(file)"
   ]
  },
  {
   "cell_type": "code",
   "execution_count": 4,
   "id": "7b900b59",
   "metadata": {},
   "outputs": [
    {
     "data": {
      "text/plain": [
       "{'7epochs_accuracies_10389train_3754test_250val_random': 0.9266177474698571,\n",
       " '7epochs_accuracies_10389train_3754test_250val': 0.9418889550116545,\n",
       " '10epochs_accuracies_10389train_3754test_250val_32batch': 0.9429276395974279,\n",
       " '10epochs_accuracies_10389train_3754test_250val': 0.9444768407287053,\n",
       " '7epochs_accuracies_10389train_3754test_250val_3e-5lr': 0.9386014384812208,\n",
       " '10epochs_accuracies_10389train_3754test_250val_3e-5lr': 0.9395692965331843}"
      ]
     },
     "execution_count": 4,
     "metadata": {},
     "output_type": "execute_result"
    }
   ],
   "source": [
    "model_accuracies"
   ]
  },
  {
   "cell_type": "code",
   "execution_count": 6,
   "id": "0a41afb4",
   "metadata": {},
   "outputs": [
    {
     "name": "stdout",
     "output_type": "stream",
     "text": [
      "Model accuracy dictionary saved to /home/sebastian/Documents/Hauptprojekt/Arrays/DonutInfoExtraction/model_accuracies_after.pkl\n"
     ]
    }
   ],
   "source": [
    "file_path = \"/home/sebastian/Documents/Hauptprojekt/Arrays/DonutInfoExtraction/model_accuracies_after.pkl\"\n",
    "with open(file_path, 'wb') as file:\n",
    "    pickle.dump(model_accuracies, file)\n",
    "\n",
    "print(f\"Model accuracy dictionary saved to {file_path}\")"
   ]
  },
  {
   "cell_type": "code",
   "execution_count": 5,
   "id": "1611a52e",
   "metadata": {},
   "outputs": [],
   "source": [
    "import pickle\n",
    "\n",
    "file_path = \"/home/sebastian/Documents/Hauptprojekt/Arrays/DonutInfoExtraction/model_accuracies_after.pkl\"\n",
    "with open(file_path, 'rb') as file:\n",
    "    model_accuracies = pickle.load(file)"
   ]
  },
  {
   "cell_type": "code",
   "execution_count": 6,
   "id": "cdb1c68d",
   "metadata": {},
   "outputs": [
    {
     "data": {
      "text/plain": [
       "{'7epochs_accuracies_10389train_3754test_250val_random': 0.9266177474698571,\n",
       " '7epochs_accuracies_10389train_3754test_250val': 0.9418889550116545,\n",
       " '10epochs_accuracies_10389train_3754test_250val_32batch': 0.9429276395974279,\n",
       " '10epochs_accuracies_10389train_3754test_250val': 0.9444768407287053,\n",
       " '7epochs_accuracies_10389train_3754test_250val_3e-5lr': 0.9386014384812208,\n",
       " '10epochs_accuracies_10389train_3754test_250val_3e-5lr': 0.9395692965331843}"
      ]
     },
     "execution_count": 6,
     "metadata": {},
     "output_type": "execute_result"
    }
   ],
   "source": [
    "model_accuracies"
   ]
  },
  {
   "cell_type": "code",
   "execution_count": 13,
   "id": "a0ecba4b",
   "metadata": {},
   "outputs": [
    {
     "name": "stdout",
     "output_type": "stream",
     "text": [
      "{'10Epochs_32Batch': 0.9429276395974279, '10Epochs_3e-5lr': 0.9395692965331843, '7Epochs_3e-5lr': 0.9386014384812208, '7Epochs_randomDataset': 0.9266177474698571, '7Epochs_structuredDataset': 0.9418889550116545, '10Epochs_structuredDataset': 0.9444768407287053}\n"
     ]
    }
   ],
   "source": [
    "# Your original dictionary\n",
    "\n",
    "\n",
    "# Renaming the key\n",
    "model_accuracies['10Epochs_structuredDataset'] = model_accuracies.pop('10epochs_accuracies_10389train_3754test_250val')\n",
    "\n",
    "# Now, the key has been renamed\n",
    "print(model_accuracies)\n"
   ]
  },
  {
   "cell_type": "code",
   "execution_count": 14,
   "id": "92df334c",
   "metadata": {},
   "outputs": [
    {
     "data": {
      "image/png": "[encoded data removed]",
      "text/plain": [
       "<Figure size 1000x600 with 1 Axes>"
      ]
     },
     "metadata": {},
     "output_type": "display_data"
    }
   ],
   "source": [
    "import matplotlib.pyplot as plt\n",
    "import pickle\n",
    "\n",
    "data = model_accuracies\n",
    "\n",
    "data = dict(sorted(data.items(), key=lambda item: item[1]))\n",
    "\n",
    "\n",
    "# Extract the keys (descriptions) and values (accuracy scores) from the dictionary\n",
    "descriptions = list(data.keys())\n",
    "accuracies = list(data.values())\n",
    "\n",
    "# Create a bar plot\n",
    "plt.figure(figsize=(10, 6))  # Adjust the figure size if needed\n",
    "bars = plt.bar(descriptions, accuracies, color='red')\n",
    "plt.xlabel('Descriptions')\n",
    "plt.ylabel('Accuracy')\n",
    "plt.title('Accuracy Scores')\n",
    "plt.xticks(rotation=45, ha='right')  # Rotate x-axis labels for better readability\n",
    "\n",
    "plt.ylim(0, 1.1)\n",
    "\n",
    "# Add accuracy values as text labels above the bars\n",
    "for bar, accuracy in zip(bars, accuracies):\n",
    "    plt.text(bar.get_x() + bar.get_width() / 2, bar.get_height(), f'{accuracy:.2%}', ha='center', va='bottom')\n",
    "\n",
    "# Show the plot\n",
    "plt.tight_layout()\n",
    "plt.savefig('/home/sebastian/Documents/Hauptprojekt/Plots/InformationExtraction/DonutModelAccuracies.png', bbox_inches='tight')\n",
    "\n",
    "plt.show()\n"
   ]
  },
  {
   "cell_type": "code",
   "execution_count": null,
   "id": "469bbd9a",
   "metadata": {},
   "outputs": [],
   "source": []
  }
 ],
 "metadata": {
  "kernelspec": {
   "display_name": "Python 3 (ipykernel)",
   "language": "python",
   "name": "python3"
  },
  "language_info": {
   "codemirror_mode": {
    "name": "ipython",
    "version": 3
   },
   "file_extension": ".py",
   "mimetype": "text/x-python",
   "name": "python",
   "nbconvert_exporter": "python",
   "pygments_lexer": "ipython3",
   "version": "3.9.17"
  }
 },
 "nbformat": 4,
 "nbformat_minor": 5
}
