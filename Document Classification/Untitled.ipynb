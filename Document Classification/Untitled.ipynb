{
 "cells": [
  {
   "cell_type": "code",
   "execution_count": 3,
   "id": "cbaa5980",
   "metadata": {},
   "outputs": [
    {
     "name": "stdout",
     "output_type": "stream",
     "text": [
      "._synthetic-8a30b38f74cf4752bb0d6d06-764(1).json\n",
      "._.DS_Store\n",
      "._6cd3e26324cd48f189536d17(2).jpg\n"
     ]
    }
   ],
   "source": [
    "import os\n",
    "\n",
    "for img in os.listdir('/home/sebastian/Documents/Hauptprojekt/Daten_sorted.nosync/tax_invoice'):\n",
    "    if img.startswith('._'):\n",
    "        print(img)"
   ]
  },
  {
   "cell_type": "code",
   "execution_count": null,
   "id": "f5f3e622",
   "metadata": {},
   "outputs": [],
   "source": []
  }
 ],
 "metadata": {
  "kernelspec": {
   "display_name": "Python 3 (ipykernel)",
   "language": "python",
   "name": "python3"
  },
  "language_info": {
   "codemirror_mode": {
    "name": "ipython",
    "version": 3
   },
   "file_extension": ".py",
   "mimetype": "text/x-python",
   "name": "python",
   "nbconvert_exporter": "python",
   "pygments_lexer": "ipython3",
   "version": "3.9.17"
  }
 },
 "nbformat": 4,
 "nbformat_minor": 5
}
