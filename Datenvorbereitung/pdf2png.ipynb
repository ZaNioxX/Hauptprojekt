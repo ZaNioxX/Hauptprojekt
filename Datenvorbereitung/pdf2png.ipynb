{
 "cells": [
  {
   "cell_type": "markdown",
   "metadata": {},
   "source": [
    "### The documents are downloaded and saved in PDF format. PDF is a file format, but transformers such as Donut require an image format as input format. Therefore, the documents have to be converted"
   ]
  },
  {
   "cell_type": "code",
   "execution_count": null,
   "metadata": {},
   "outputs": [],
   "source": [
    "pip install pdf2image"
   ]
  },
  {
   "cell_type": "code",
   "execution_count": null,
   "metadata": {},
   "outputs": [],
   "source": [
    "# import required module\n",
    "import os\n",
    "# import module\n",
    "from pdf2image import convert_from_path"
   ]
  },
  {
   "cell_type": "code",
   "execution_count": null,
   "metadata": {},
   "outputs": [],
   "source": [
    "# assign directory\n",
    "directory = '/Users/sep/Documents/HAW/Vorlesung/HP/Hauptprojekt/Daten.nosync/data/docile/pdfs/'\n",
    "\n",
    "# iterate over files in that directory\n",
    "for filename in os.listdir(directory):\n",
    "        # Store Pdf with convert_from_path function\n",
    "        image = convert_from_path('/Users/sep/Documents/HAW/Vorlesung/HP/Hauptprojekt/Daten.nosync/data/docile/pdfs/' + filename)\n",
    "\n",
    "        for i in range(len(image)):\n",
    "            # Save pages as images in the pdf\n",
    "            image[i].save(os.path.join('/Users/sep/Documents/HAW/Vorlesung/HP/Hauptprojekt/Daten.nosync/data/docile/jpgs',filename[:-4] + '(' + str(i+1) + ')' + '.jpg'), 'JPEG')"
   ]
  }
 ],
 "metadata": {
  "language_info": {
   "name": "python"
  },
  "orig_nbformat": 4
 },
 "nbformat": 4,
 "nbformat_minor": 2
}
