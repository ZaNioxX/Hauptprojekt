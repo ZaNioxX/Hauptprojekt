{
 "cells": [
  {
   "cell_type": "markdown",
   "metadata": {},
   "source": [
    "### The documents are downloaded and saved in PDF format. PDF is a file format, but transformers such as Donut require an image format as input format. Therefore, the documents have to be converted"
   ]
  },
  {
   "cell_type": "code",
   "execution_count": 1,
   "metadata": {},
   "outputs": [
    {
     "name": "stdout",
     "output_type": "stream",
     "text": [
      "/bin/bash: /home/sebastian/anaconda3/envs/tf/lib/libtinfo.so.6: no version information available (required by /bin/bash)\n",
      "Requirement already satisfied: pdf2image in /home/sebastian/anaconda3/envs/tf/lib/python3.9/site-packages (1.16.3)\n",
      "Requirement already satisfied: pillow in /home/sebastian/anaconda3/envs/tf/lib/python3.9/site-packages (from pdf2image) (9.4.0)\n",
      "Note: you may need to restart the kernel to use updated packages.\n"
     ]
    }
   ],
   "source": [
    "pip install pdf2image"
   ]
  },
  {
   "cell_type": "code",
   "execution_count": 2,
   "metadata": {},
   "outputs": [],
   "source": [
    "# import required module\n",
    "import os\n",
    "# import module\n",
    "from pdf2image import convert_from_path"
   ]
  },
  {
   "cell_type": "markdown",
   "metadata": {},
   "source": [
    "store the images in a \"jpgs\" folder instead of the \"pdfs\" folder"
   ]
  },
  {
   "cell_type": "code",
   "execution_count": 3,
   "metadata": {},
   "outputs": [],
   "source": [
    "# assign directory\n",
    "directory = '/home/sebastian/Documents/Hauptprojekt/Daten/data/docile/pdfs/'\n",
    "\n",
    "# iterate over files in that directory\n",
    "for filename in os.listdir(directory):\n",
    "        # Store Pdf with convert_from_path function\n",
    "        image = convert_from_path('/home/sebastian/Documents/Hauptprojekt/Daten/data/docile/pdfs/' + filename)\n",
    "\n",
    "        for i in range(len(image)):\n",
    "            # Save pages as images in the pdf\n",
    "            image[i].save(os.path.join('/home/sebastian/Documents/Hauptprojekt/Daten/data/docile/jpgs',filename[:-4] + '(' + str(i+1) + ')' + '.jpg'), 'JPEG')"
   ]
  }
 ],
 "metadata": {
  "kernelspec": {
   "display_name": "Python 3 (ipykernel)",
   "language": "python",
   "name": "python3"
  },
  "language_info": {
   "codemirror_mode": {
    "name": "ipython",
    "version": 3
   },
   "file_extension": ".py",
   "mimetype": "text/x-python",
   "name": "python",
   "nbconvert_exporter": "python",
   "pygments_lexer": "ipython3",
   "version": "3.9.17"
  }
 },
 "nbformat": 4,
 "nbformat_minor": 2
}
