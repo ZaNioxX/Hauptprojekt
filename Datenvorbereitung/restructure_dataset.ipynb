{
 "cells": [
  {
   "cell_type": "markdown",
   "metadata": {},
   "source": [
    "## Change file paths into the format used in:\n",
    "- VGG-16 Document Recognition: https://www.kaggle.com/code/patrickaudriaz/vgg-16-document-recognition-heia-fr#Create-base-model-(using-pretrained-CNN)\n",
    "- Inception V3 Document Recognition: https://www.kaggle.com/code/patrickaudriaz/inceptionv3-document-recognition-heia-fr"
   ]
  },
  {
   "cell_type": "code",
   "execution_count": 1,
   "metadata": {},
   "outputs": [],
   "source": [
    "import os\n",
    "import json\n",
    "from PIL import Image "
   ]
  },
  {
   "cell_type": "code",
   "execution_count": 3,
   "metadata": {},
   "outputs": [],
   "source": [
    "directory_img = '/Users/sep/Documents/HAW/Vorlesung/HP/Hauptprojekt/Daten.nosync/data/docile/jpgs/'\n",
    "directory_json = '/Users/sep/Documents/HAW/Vorlesung/HP/Hauptprojekt/Daten.nosync/data/docile/annotations/'\n",
    "for filename in os.listdir(directory_img):\n",
    "    doc_name = filename[:-7]\n",
    "    #print(doc_name)\n",
    "    json_file = open(directory_json + doc_name + \".json\")\n",
    "    data = json.load(json_file)\n",
    "    if 'document_type' in data[\"metadata\"]:\n",
    "        #get document type\n",
    "        document_type = data[\"metadata\"][\"document_type\"]\n",
    "        #delcare path you want to save the image in\n",
    "        path = \"/Users/sep/Documents/HAW/Vorlesung/HP/Hauptprojekt/Daten_sorted.nosync/\" + document_type\n",
    "        #Check whether the specified path exists or not\n",
    "        isExist = os.path.exists(path)\n",
    "        if not isExist:\n",
    "        # Create a new directory because it does not exist\n",
    "            os.makedirs(path)\n",
    "        #if document has more than one page do it for all pages\n",
    "    for i in range(data[\"metadata\"][\"page_count\"]):\n",
    "        img = Image.open(directory_img + doc_name + \"(\" + str(i+1) + \")\" + \".jpg\")\n",
    "        img.save(\"/Users/sep/Documents/HAW/Vorlesung/HP/Hauptprojekt/Daten_sorted.nosync/\" + document_type + \"/\" + filename)"
   ]
  },
  {
   "cell_type": "code",
   "execution_count": null,
   "metadata": {},
   "outputs": [],
   "source": []
  }
 ],
 "metadata": {
  "kernelspec": {
   "display_name": "Python 3",
   "language": "python",
   "name": "python3"
  },
  "language_info": {
   "codemirror_mode": {
    "name": "ipython",
    "version": 3
   },
   "file_extension": ".py",
   "mimetype": "text/x-python",
   "name": "python",
   "nbconvert_exporter": "python",
   "pygments_lexer": "ipython3",
   "version": "3.10.12"
  },
  "orig_nbformat": 4
 },
 "nbformat": 4,
 "nbformat_minor": 2
}
