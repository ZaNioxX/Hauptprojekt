{
 "cells": [
  {
   "cell_type": "markdown",
   "metadata": {},
   "source": [
    "## Delete all documents that don't have a document type in their metadata\n",
    "\n",
    "This involves 1321 of the 6680 non synthetic Documents "
   ]
  },
  {
   "cell_type": "code",
   "execution_count": 2,
   "metadata": {},
   "outputs": [],
   "source": [
    "import os\n",
    "import json\n",
    "from PIL import Image "
   ]
  },
  {
   "cell_type": "code",
   "execution_count": 5,
   "metadata": {},
   "outputs": [
    {
     "ename": "FileNotFoundError",
     "evalue": "[Errno 2] No such file or directory: '/home/sebastian/Documents/Hauptprojekt/Daten/data/docile/jpgs/'",
     "output_type": "error",
     "traceback": [
      "\u001b[0;31m---------------------------------------------------------------------------\u001b[0m",
      "\u001b[0;31mFileNotFoundError\u001b[0m                         Traceback (most recent call last)",
      "Cell \u001b[0;32mIn[5], line 9\u001b[0m\n\u001b[1;32m      7\u001b[0m \u001b[38;5;66;03m#pdf directory\u001b[39;00m\n\u001b[1;32m      8\u001b[0m directory_pdf \u001b[38;5;241m=\u001b[39m \u001b[38;5;124m'\u001b[39m\u001b[38;5;124m/home/sebastian/Documents/Hauptprojekt/Daten/data/docile/pdfs/\u001b[39m\u001b[38;5;124m'\u001b[39m\n\u001b[0;32m----> 9\u001b[0m \u001b[38;5;28;01mfor\u001b[39;00m filename \u001b[38;5;129;01min\u001b[39;00m \u001b[43mos\u001b[49m\u001b[38;5;241;43m.\u001b[39;49m\u001b[43mlistdir\u001b[49m\u001b[43m(\u001b[49m\u001b[43mdirectory_img\u001b[49m\u001b[43m)\u001b[49m:\n\u001b[1;32m     10\u001b[0m     \u001b[38;5;66;03m#cut filename into original name -> remove (1).jpg\u001b[39;00m\n\u001b[1;32m     11\u001b[0m     doc_name \u001b[38;5;241m=\u001b[39m filename[:\u001b[38;5;241m-\u001b[39m\u001b[38;5;241m7\u001b[39m]\n\u001b[1;32m     12\u001b[0m     \u001b[38;5;66;03m#open json file\u001b[39;00m\n",
      "\u001b[0;31mFileNotFoundError\u001b[0m: [Errno 2] No such file or directory: '/home/sebastian/Documents/Hauptprojekt/Daten/data/docile/jpgs/'"
     ]
    }
   ],
   "source": [
    "#image directory\n",
    "directory_img = '/home/sebastian/Documents/Hauptprojekt/Daten/data/docile/jpgs/'\n",
    "#json directory\n",
    "directory_json = '/home/sebastian/Documents/Hauptprojekt/Daten/data/docile/annotations/'\n",
    "#ocr directory\n",
    "directory_ocr = '/home/sebastian/Documents/Hauptprojekt/Daten/data/docile/ocr/'\n",
    "#pdf directory\n",
    "directory_pdf = '/home/sebastian/Documents/Hauptprojekt/Daten/data/docile/pdfs/'\n",
    "for filename in os.listdir(directory_img):\n",
    "    #cut filename into original name -> remove (1).jpg\n",
    "    doc_name = filename[:-7]\n",
    "    #open json file\n",
    "    json_file = open(directory_json + doc_name + \".json\")\n",
    "    data = json.load(json_file)\n",
    "    #if json file does not content \"document_type\", remove that image and json file\n",
    "    if not 'document_type' in data[\"metadata\"]:\n",
    "        for i in range(data[\"metadata\"][\"page_count\"]):\n",
    "            #print(directory_img + doc_name + \"(\" + str(i+1) + \")\" + \".jpg\")\n",
    "            os.remove(directory_img + doc_name + \"(\" + str(i+1) + \")\" + \".jpg\")\n",
    "        os.remove(directory_json + doc_name + \".json\")\n",
    "        os.remove(directory_ocr + doc_name + \".json\")\n",
    "        os.remove(directory_pdf + doc_name + \".pdf\")\n",
    "       "
   ]
  },
  {
   "cell_type": "code",
   "execution_count": 35,
   "metadata": {},
   "outputs": [
    {
     "name": "stdout",
     "output_type": "stream",
     "text": [
      "/Users/sep/Documents/HAW/Vorlesung/HP/Hauptprojekt/Daten.nosync/data/docile/pdfs/8a328c8a68c94e29b706f5af.pdf\n"
     ]
    }
   ],
   "source": [
    "print(directory_pdf + doc_name + \".pdf\")"
   ]
  },
  {
   "cell_type": "code",
   "execution_count": null,
   "metadata": {},
   "outputs": [],
   "source": []
  }
 ],
 "metadata": {
  "kernelspec": {
   "display_name": "Python 3 (ipykernel)",
   "language": "python",
   "name": "python3"
  },
  "language_info": {
   "codemirror_mode": {
    "name": "ipython",
    "version": 3
   },
   "file_extension": ".py",
   "mimetype": "text/x-python",
   "name": "python",
   "nbconvert_exporter": "python",
   "pygments_lexer": "ipython3",
   "version": "3.9.17"
  }
 },
 "nbformat": 4,
 "nbformat_minor": 2
}
