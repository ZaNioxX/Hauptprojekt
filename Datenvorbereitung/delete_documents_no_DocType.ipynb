{
 "cells": [
  {
   "cell_type": "markdown",
   "metadata": {},
   "source": [
    "## Delete all documents that don't have a document type in their metadata\n",
    "\n",
    "This involves 1321 of the 6680 non synthetic Documents "
   ]
  },
  {
   "cell_type": "code",
   "execution_count": 3,
   "metadata": {},
   "outputs": [],
   "source": [
    "import os\n",
    "import json\n",
    "from PIL import Image "
   ]
  },
  {
   "cell_type": "code",
   "execution_count": 6,
   "metadata": {},
   "outputs": [],
   "source": [
    "#image directory\n",
    "directory_img = '/Users/sep/Documents/HAW/Vorlesung/HP/Hauptprojekt/Daten.nosync/data/docile/jpgs/'\n",
    "#json directory\n",
    "directory_json = '/Users/sep/Documents/HAW/Vorlesung/HP/Hauptprojekt/Daten.nosync/data/docile/annotations/'\n",
    "#ocr directory\n",
    "directory_ocr = '/Users/sep/Documents/HAW/Vorlesung/HP/Hauptprojekt/Daten.nosync/data/docile/ocr/'\n",
    "#pdf directory\n",
    "directory_pdf = '/Users/sep/Documents/HAW/Vorlesung/HP/Hauptprojekt/Daten.nosync/data/docile/pdfs/'\n",
    "for filename in os.listdir(directory_img):\n",
    "    #cut filename into original name -> remove (1).jpg\n",
    "    doc_name = filename[:-7]\n",
    "    #open json file\n",
    "    json_file = open(directory_json + doc_name + \".json\")\n",
    "    data = json.load(json_file)\n",
    "    #if json file does not content \"document_type\", remove that image and json file\n",
    "    if not 'document_type' in data[\"metadata\"]:\n",
    "        for i in range(data[\"metadata\"][\"page_count\"]):\n",
    "            #print(directory_img + doc_name + \"(\" + str(i+1) + \")\" + \".jpg\")\n",
    "            os.remove(directory_img + doc_name + \"(\" + str(i+1) + \")\" + \".jpg\")\n",
    "        os.remove(directory_json + doc_name + \".json\")\n",
    "        os.remove(directory_ocr + doc_name + \".json\")\n",
    "        os.remove(directory_pdf + doc_name + \".pdf\")\n",
    "       "
   ]
  },
  {
   "cell_type": "code",
   "execution_count": 35,
   "metadata": {},
   "outputs": [
    {
     "name": "stdout",
     "output_type": "stream",
     "text": [
      "/Users/sep/Documents/HAW/Vorlesung/HP/Hauptprojekt/Daten.nosync/data/docile/pdfs/8a328c8a68c94e29b706f5af.pdf\n"
     ]
    }
   ],
   "source": [
    "print(directory_pdf + doc_name + \".pdf\")"
   ]
  },
  {
   "cell_type": "code",
   "execution_count": null,
   "metadata": {},
   "outputs": [],
   "source": []
  }
 ],
 "metadata": {
  "kernelspec": {
   "display_name": "Python 3",
   "language": "python",
   "name": "python3"
  },
  "language_info": {
   "codemirror_mode": {
    "name": "ipython",
    "version": 3
   },
   "file_extension": ".py",
   "mimetype": "text/x-python",
   "name": "python",
   "nbconvert_exporter": "python",
   "pygments_lexer": "ipython3",
   "version": "3.10.12"
  },
  "orig_nbformat": 4
 },
 "nbformat": 4,
 "nbformat_minor": 2
}
